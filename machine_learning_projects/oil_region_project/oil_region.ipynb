{
 "cells": [
  {
   "cell_type": "markdown",
   "metadata": {},
   "source": [
    "# Выбор локации для скважины"
   ]
  },
  {
   "cell_type": "markdown",
   "metadata": {},
   "source": [
    "Проект выполнен для нефтедобывающей компании. Предоставлены данные проб нефти в трёх регионах: в каждом 10 000 месторождений, где измерили качество нефти и объём её запасов. Необходимо определить локацию для бурения новой скважины.\n",
    "\n",
    "Шаги для выбора локации:\n",
    "\n",
    "- в избранном регионе ищут месторождения, для каждого определяют значения признаков;\n",
    "- строят модель и оценивают объём запасов;\n",
    "- выбирают месторождения с самым высокими оценками значений; количество месторождений зависит от бюджета компании и стоимости разработки одной скважины;\n",
    "- прибыль равна суммарной прибыли отобранных месторождений.\n",
    "\n",
    "Условия задачи:\n",
    "\n",
    "•\tДля обучения модели подходит только линейная регрессия (остальные — недостаточно предсказуемые).\n",
    "\n",
    "•\tПри разведке региона исследуют 500 точек, из которых с помощью машинного обучения выбирают 200 лучших для разработки.\n",
    "\n",
    "•\tБюджет на разработку скважин в регионе — 10 млрд рублей.\n",
    "\n",
    "•\tПри нынешних ценах один баррель сырья приносит 450 рублей дохода. Доход с каждой единицы продукта составляет 450 тыс. рублей, поскольку объём указан в тысячах баррелей.\n",
    "\n",
    "•\tПосле оценки рисков нужно оставить лишь те регионы, в которых вероятность убытков меньше 2.5%. Среди них выбирают регион с наибольшей средней прибылью.\n",
    "\n",
    "**Цель исследования** - построить модель машинного обучения, которая поможет определить регион, где добыча принесёт наибольшую прибыль. Анализ возможной прибыли и рисков провести, используя технику *Bootstrap.*\n",
    "\n",
    "**Ход исследования:**\n",
    "\n",
    "1. Общая информация о данных:\n",
    "\n",
    "   1.1 загрузка данных \n",
    "   \n",
    "   1.2 предобработка данных (поиск аномалий, пропусков, дубликатов, анализ статистических характеристик данных)\n",
    "   \n",
    "2. Обучение и проверка модели каждого региона:\n",
    "\n",
    "   2.1 подготовка признакоа (обучающая и валидационная выборка в соотношении 75:25);\n",
    "   \n",
    "   2.2 обучение модели линейной регрессии и построение прогноза на валидационной выборке;\n",
    "   \n",
    "   2.3 рассчет среднего запаса предсказанного сырья (по валидационной выборки) и RMSE модели.\n",
    "   \n",
    "3. Подготовка к рассчету прибыли:\n",
    "\n",
    "   3.1. расчет достаточного объёма сырья для безубыточной разработки новой скважины и его сравнение со средним запасом в каждом регионе. \n",
    "   \n",
    "4. Рассчет прибыли и рисков\n",
    "\n",
    "   4.1 написание функции для расчёта прибыли по выбранным скважинам и предсказаниям модели \n",
    "   \n",
    "   4.2 рассчет рисков и прибыли для каждого региона:\n",
    "   \n",
    "       - для Bootstrap отбираем 1000 выборок, чтобы найти распределение прибыли;\n",
    "       \n",
    "       - рассчет средней прибыли, 95%-й доверительный интервал и риск убытков. \n",
    "       \n",
    "5. Общий вывод с рекоммендацией региона для разработки скважи."
   ]
  },
  {
   "cell_type": "markdown",
   "metadata": {},
   "source": [
    "## Загрузка и подготовка данных"
   ]
  },
  {
   "cell_type": "markdown",
   "metadata": {},
   "source": [
    "### Общая информация о данных"
   ]
  },
  {
   "cell_type": "code",
   "execution_count": 1,
   "metadata": {},
   "outputs": [],
   "source": [
    "# импорт библиотек\n",
    "\n",
    "import pandas as pd\n",
    "import numpy as np\n",
    "import matplotlib.pyplot as plt\n",
    "import seaborn as sns\n",
    "from sklearn.model_selection import train_test_split\n",
    "from sklearn.preprocessing import StandardScaler\n",
    "from sklearn.linear_model import LinearRegression\n",
    "from sklearn.metrics import mean_squared_error"
   ]
  },
  {
   "cell_type": "code",
   "execution_count": 2,
   "metadata": {},
   "outputs": [],
   "source": [
    "# загрузка данных\n",
    "\n",
    "reg_1 = pd.read_csv('/datasets/geo_data_0.csv')\n",
    "reg_2 = pd.read_csv('/datasets/geo_data_1.csv')\n",
    "reg_3 = pd.read_csv('/datasets/geo_data_2.csv')"
   ]
  },
  {
   "cell_type": "markdown",
   "metadata": {},
   "source": [
    "**Данные геологоразведки первого региона**"
   ]
  },
  {
   "cell_type": "code",
   "execution_count": 3,
   "metadata": {},
   "outputs": [
    {
     "name": "stdout",
     "output_type": "stream",
     "text": [
      "<class 'pandas.core.frame.DataFrame'>\n",
      "RangeIndex: 100000 entries, 0 to 99999\n",
      "Data columns (total 5 columns):\n",
      " #   Column   Non-Null Count   Dtype  \n",
      "---  ------   --------------   -----  \n",
      " 0   id       100000 non-null  object \n",
      " 1   f0       100000 non-null  float64\n",
      " 2   f1       100000 non-null  float64\n",
      " 3   f2       100000 non-null  float64\n",
      " 4   product  100000 non-null  float64\n",
      "dtypes: float64(4), object(1)\n",
      "memory usage: 3.8+ MB\n"
     ]
    },
    {
     "data": {
      "text/html": [
       "<div>\n",
       "<style scoped>\n",
       "    .dataframe tbody tr th:only-of-type {\n",
       "        vertical-align: middle;\n",
       "    }\n",
       "\n",
       "    .dataframe tbody tr th {\n",
       "        vertical-align: top;\n",
       "    }\n",
       "\n",
       "    .dataframe thead th {\n",
       "        text-align: right;\n",
       "    }\n",
       "</style>\n",
       "<table border=\"1\" class=\"dataframe\">\n",
       "  <thead>\n",
       "    <tr style=\"text-align: right;\">\n",
       "      <th></th>\n",
       "      <th>id</th>\n",
       "      <th>f0</th>\n",
       "      <th>f1</th>\n",
       "      <th>f2</th>\n",
       "      <th>product</th>\n",
       "    </tr>\n",
       "  </thead>\n",
       "  <tbody>\n",
       "    <tr>\n",
       "      <th>0</th>\n",
       "      <td>txEyH</td>\n",
       "      <td>0.705745</td>\n",
       "      <td>-0.497823</td>\n",
       "      <td>1.221170</td>\n",
       "      <td>105.280062</td>\n",
       "    </tr>\n",
       "    <tr>\n",
       "      <th>1</th>\n",
       "      <td>2acmU</td>\n",
       "      <td>1.334711</td>\n",
       "      <td>-0.340164</td>\n",
       "      <td>4.365080</td>\n",
       "      <td>73.037750</td>\n",
       "    </tr>\n",
       "    <tr>\n",
       "      <th>2</th>\n",
       "      <td>409Wp</td>\n",
       "      <td>1.022732</td>\n",
       "      <td>0.151990</td>\n",
       "      <td>1.419926</td>\n",
       "      <td>85.265647</td>\n",
       "    </tr>\n",
       "  </tbody>\n",
       "</table>\n",
       "</div>"
      ],
      "text/plain": [
       "      id        f0        f1        f2     product\n",
       "0  txEyH  0.705745 -0.497823  1.221170  105.280062\n",
       "1  2acmU  1.334711 -0.340164  4.365080   73.037750\n",
       "2  409Wp  1.022732  0.151990  1.419926   85.265647"
      ]
     },
     "execution_count": 3,
     "metadata": {},
     "output_type": "execute_result"
    }
   ],
   "source": [
    "reg_1.info()\n",
    "reg_1.head(3)"
   ]
  },
  {
   "cell_type": "markdown",
   "metadata": {},
   "source": [
    "**Данные геологоразведки второго региона**"
   ]
  },
  {
   "cell_type": "code",
   "execution_count": 4,
   "metadata": {},
   "outputs": [
    {
     "name": "stdout",
     "output_type": "stream",
     "text": [
      "<class 'pandas.core.frame.DataFrame'>\n",
      "RangeIndex: 100000 entries, 0 to 99999\n",
      "Data columns (total 5 columns):\n",
      " #   Column   Non-Null Count   Dtype  \n",
      "---  ------   --------------   -----  \n",
      " 0   id       100000 non-null  object \n",
      " 1   f0       100000 non-null  float64\n",
      " 2   f1       100000 non-null  float64\n",
      " 3   f2       100000 non-null  float64\n",
      " 4   product  100000 non-null  float64\n",
      "dtypes: float64(4), object(1)\n",
      "memory usage: 3.8+ MB\n"
     ]
    },
    {
     "data": {
      "text/html": [
       "<div>\n",
       "<style scoped>\n",
       "    .dataframe tbody tr th:only-of-type {\n",
       "        vertical-align: middle;\n",
       "    }\n",
       "\n",
       "    .dataframe tbody tr th {\n",
       "        vertical-align: top;\n",
       "    }\n",
       "\n",
       "    .dataframe thead th {\n",
       "        text-align: right;\n",
       "    }\n",
       "</style>\n",
       "<table border=\"1\" class=\"dataframe\">\n",
       "  <thead>\n",
       "    <tr style=\"text-align: right;\">\n",
       "      <th></th>\n",
       "      <th>id</th>\n",
       "      <th>f0</th>\n",
       "      <th>f1</th>\n",
       "      <th>f2</th>\n",
       "      <th>product</th>\n",
       "    </tr>\n",
       "  </thead>\n",
       "  <tbody>\n",
       "    <tr>\n",
       "      <th>0</th>\n",
       "      <td>kBEdx</td>\n",
       "      <td>-15.001348</td>\n",
       "      <td>-8.276000</td>\n",
       "      <td>-0.005876</td>\n",
       "      <td>3.179103</td>\n",
       "    </tr>\n",
       "    <tr>\n",
       "      <th>1</th>\n",
       "      <td>62mP7</td>\n",
       "      <td>14.272088</td>\n",
       "      <td>-3.475083</td>\n",
       "      <td>0.999183</td>\n",
       "      <td>26.953261</td>\n",
       "    </tr>\n",
       "    <tr>\n",
       "      <th>2</th>\n",
       "      <td>vyE1P</td>\n",
       "      <td>6.263187</td>\n",
       "      <td>-5.948386</td>\n",
       "      <td>5.001160</td>\n",
       "      <td>134.766305</td>\n",
       "    </tr>\n",
       "  </tbody>\n",
       "</table>\n",
       "</div>"
      ],
      "text/plain": [
       "      id         f0        f1        f2     product\n",
       "0  kBEdx -15.001348 -8.276000 -0.005876    3.179103\n",
       "1  62mP7  14.272088 -3.475083  0.999183   26.953261\n",
       "2  vyE1P   6.263187 -5.948386  5.001160  134.766305"
      ]
     },
     "execution_count": 4,
     "metadata": {},
     "output_type": "execute_result"
    }
   ],
   "source": [
    "reg_2.info()\n",
    "reg_2.head(3)"
   ]
  },
  {
   "cell_type": "markdown",
   "metadata": {},
   "source": [
    "**Данные геологоразведки третьего региона**"
   ]
  },
  {
   "cell_type": "code",
   "execution_count": 5,
   "metadata": {},
   "outputs": [
    {
     "name": "stdout",
     "output_type": "stream",
     "text": [
      "<class 'pandas.core.frame.DataFrame'>\n",
      "RangeIndex: 100000 entries, 0 to 99999\n",
      "Data columns (total 5 columns):\n",
      " #   Column   Non-Null Count   Dtype  \n",
      "---  ------   --------------   -----  \n",
      " 0   id       100000 non-null  object \n",
      " 1   f0       100000 non-null  float64\n",
      " 2   f1       100000 non-null  float64\n",
      " 3   f2       100000 non-null  float64\n",
      " 4   product  100000 non-null  float64\n",
      "dtypes: float64(4), object(1)\n",
      "memory usage: 3.8+ MB\n"
     ]
    },
    {
     "data": {
      "text/html": [
       "<div>\n",
       "<style scoped>\n",
       "    .dataframe tbody tr th:only-of-type {\n",
       "        vertical-align: middle;\n",
       "    }\n",
       "\n",
       "    .dataframe tbody tr th {\n",
       "        vertical-align: top;\n",
       "    }\n",
       "\n",
       "    .dataframe thead th {\n",
       "        text-align: right;\n",
       "    }\n",
       "</style>\n",
       "<table border=\"1\" class=\"dataframe\">\n",
       "  <thead>\n",
       "    <tr style=\"text-align: right;\">\n",
       "      <th></th>\n",
       "      <th>id</th>\n",
       "      <th>f0</th>\n",
       "      <th>f1</th>\n",
       "      <th>f2</th>\n",
       "      <th>product</th>\n",
       "    </tr>\n",
       "  </thead>\n",
       "  <tbody>\n",
       "    <tr>\n",
       "      <th>0</th>\n",
       "      <td>fwXo0</td>\n",
       "      <td>-1.146987</td>\n",
       "      <td>0.963328</td>\n",
       "      <td>-0.828965</td>\n",
       "      <td>27.758673</td>\n",
       "    </tr>\n",
       "    <tr>\n",
       "      <th>1</th>\n",
       "      <td>WJtFt</td>\n",
       "      <td>0.262778</td>\n",
       "      <td>0.269839</td>\n",
       "      <td>-2.530187</td>\n",
       "      <td>56.069697</td>\n",
       "    </tr>\n",
       "    <tr>\n",
       "      <th>2</th>\n",
       "      <td>ovLUW</td>\n",
       "      <td>0.194587</td>\n",
       "      <td>0.289035</td>\n",
       "      <td>-5.586433</td>\n",
       "      <td>62.871910</td>\n",
       "    </tr>\n",
       "  </tbody>\n",
       "</table>\n",
       "</div>"
      ],
      "text/plain": [
       "      id        f0        f1        f2    product\n",
       "0  fwXo0 -1.146987  0.963328 -0.828965  27.758673\n",
       "1  WJtFt  0.262778  0.269839 -2.530187  56.069697\n",
       "2  ovLUW  0.194587  0.289035 -5.586433  62.871910"
      ]
     },
     "execution_count": 5,
     "metadata": {},
     "output_type": "execute_result"
    }
   ],
   "source": [
    "reg_3.info()\n",
    "reg_3.head(3)"
   ]
  },
  {
   "cell_type": "markdown",
   "metadata": {},
   "source": [
    "### Предобработка данных"
   ]
  },
  {
   "cell_type": "code",
   "execution_count": 6,
   "metadata": {},
   "outputs": [],
   "source": [
    "# приведем id к нижнему регистру\n",
    "\n",
    "reg_1['id'] = reg_1['id'].str.lower()\n",
    "reg_2['id'] = reg_2['id'].str.lower()\n",
    "reg_3['id'] = reg_3['id'].str.lower()"
   ]
  },
  {
   "cell_type": "code",
   "execution_count": 7,
   "metadata": {},
   "outputs": [
    {
     "name": "stdout",
     "output_type": "stream",
     "text": [
      "Количество явных дубликатов в регионе 1: 0\n",
      "Количество явных дубликатов в регионе 2: 0\n",
      "Количество явных дубликатов в регионе 3: 0\n"
     ]
    }
   ],
   "source": [
    "print('Количество явных дубликатов в регионе 1:', reg_1.duplicated().sum())\n",
    "print('Количество явных дубликатов в регионе 2:', reg_2.duplicated().sum())\n",
    "print('Количество явных дубликатов в регионе 3:', reg_3.duplicated().sum())"
   ]
  },
  {
   "cell_type": "code",
   "execution_count": 8,
   "metadata": {},
   "outputs": [
    {
     "name": "stdout",
     "output_type": "stream",
     "text": [
      "Количество дубликатов по id в регионе 1: 113\n",
      "Количество дубликатов по id в регионе 2: 113\n",
      "Количество дубликатов по id в регионе 3: 99\n"
     ]
    }
   ],
   "source": [
    "print('Количество дубликатов по id в регионе 1:', reg_1.duplicated(['id']).sum())\n",
    "print('Количество дубликатов по id в регионе 2:', reg_2.duplicated(['id']).sum())\n",
    "print('Количество дубликатов по id в регионе 3:', reg_3.duplicated(['id']).sum())\n"
   ]
  },
  {
   "cell_type": "markdown",
   "metadata": {},
   "source": [
    "Во всех регионах по `id` имеются дубликаты. Учитывая, что значения в `f0`, `f1`, `f2`, `product` различны, не предоставлена вся информация, характеризующая `f0`, `f1`, `f2`,  а также объем дубликатов не значителен, то оставим данные без изменения. Поскольку столбец `id` в задаче не несет для модели значимой информации, удалим его."
   ]
  },
  {
   "cell_type": "code",
   "execution_count": 9,
   "metadata": {},
   "outputs": [],
   "source": [
    "# удалим столбец id из датасетов\n",
    "\n",
    "reg_1 = reg_1.drop(['id'], axis = 1)\n",
    "reg_2 = reg_2.drop(['id'], axis = 1)\n",
    "reg_3 = reg_3.drop(['id'], axis = 1)"
   ]
  },
  {
   "cell_type": "markdown",
   "metadata": {},
   "source": [
    "**Проанализируем данные на наличие выбросов**"
   ]
  },
  {
   "cell_type": "code",
   "execution_count": 10,
   "metadata": {},
   "outputs": [],
   "source": [
    "# функция для построиения диаграммы размаха\n",
    "\n",
    "def range_diagram(region, name):\n",
    "    fig, axes = plt.subplots(1, 3, figsize=(12, 3))\n",
    "    plt.suptitle(name)\n",
    "\n",
    "    region.boxplot(['f0', 'f1'], ax=axes[0])\n",
    "    region.boxplot(['f2'], ax=axes[1])\n",
    "    region.boxplot(['product'], ax=axes[2]);"
   ]
  },
  {
   "cell_type": "code",
   "execution_count": 11,
   "metadata": {},
   "outputs": [
    {
     "data": {
      "image/png": "[encoded data removed]",
      "text/plain": [
       "<Figure size 864x216 with 3 Axes>"
      ]
     },
     "metadata": {
      "needs_background": "light"
     },
     "output_type": "display_data"
    }
   ],
   "source": [
    "range_diagram(reg_1, 'Диаграмма размаха первого региона')"
   ]
  },
  {
   "cell_type": "code",
   "execution_count": 12,
   "metadata": {},
   "outputs": [
    {
     "data": {
      "image/png": "[encoded data removed]",
      "text/plain": [
       "<Figure size 864x216 with 3 Axes>"
      ]
     },
     "metadata": {
      "needs_background": "light"
     },
     "output_type": "display_data"
    }
   ],
   "source": [
    "range_diagram(reg_2, 'Диаграмма размаха второго региона')"
   ]
  },
  {
   "cell_type": "code",
   "execution_count": 13,
   "metadata": {},
   "outputs": [
    {
     "data": {
      "image/png": "[encoded data removed]",
      "text/plain": [
       "<Figure size 864x216 with 3 Axes>"
      ]
     },
     "metadata": {
      "needs_background": "light"
     },
     "output_type": "display_data"
    }
   ],
   "source": [
    "range_diagram(reg_3, 'Диаграмма размаха третьего региона')"
   ]
  },
  {
   "cell_type": "markdown",
   "metadata": {},
   "source": [
    "По диаграммам размаха видно, что в признаках `f0`, `f1` и `f2` имеются \"слабые\" выбросы (значения, которые в 1.5 р превышают межквартильный размах). Поскольку информации о данных, характеризующих признаки недостаточно, то судить насколько данные выбросы аномальны сложно. Оставим без изменений и не будем удалять выбросы. Также можно заметить, что признаки отличаются по регионам, особенно выделяется второй регион."
   ]
  },
  {
   "cell_type": "markdown",
   "metadata": {},
   "source": [
    "**Проанализируем распределение данных по регионам**"
   ]
  },
  {
   "cell_type": "code",
   "execution_count": 14,
   "metadata": {},
   "outputs": [],
   "source": [
    "# функция построения гистограм\n",
    "\n",
    "def distribution (region, name, bin):\n",
    "    fig, axes = plt.subplots(1, 4, figsize=(18, 4))\n",
    "    plt.suptitle(name)\n",
    "\n",
    "    region['f0'].hist(bins=bin, ax=axes[0])\n",
    "    axes[0].set_title('f0')\n",
    "    region['f1'].hist(bins=bin, ax=axes[1])\n",
    "    axes[1].set_title('f1')\n",
    "    region['f2'].hist(bins=bin, ax=axes[2])\n",
    "    axes[2].set_title('f2')\n",
    "    region['product'].hist(bins=bin, ax=axes[3])\n",
    "    axes[3].set_title('product');"
   ]
  },
  {
   "cell_type": "code",
   "execution_count": 15,
   "metadata": {},
   "outputs": [
    {
     "data": {
      "image/png": "[encoded data removed]",
      "text/plain": [
       "<Figure size 1296x288 with 4 Axes>"
      ]
     },
     "metadata": {
      "needs_background": "light"
     },
     "output_type": "display_data"
    }
   ],
   "source": [
    "distribution (reg_1, 'Гисторгамма данных первого региона', 50)"
   ]
  },
  {
   "cell_type": "code",
   "execution_count": 16,
   "metadata": {},
   "outputs": [
    {
     "data": {
      "image/png": "[encoded data removed]",
      "text/plain": [
       "<Figure size 1296x288 with 4 Axes>"
      ]
     },
     "metadata": {
      "needs_background": "light"
     },
     "output_type": "display_data"
    }
   ],
   "source": [
    "distribution (reg_2, 'Гисторгамма данных второго региона', 50)"
   ]
  },
  {
   "cell_type": "code",
   "execution_count": 17,
   "metadata": {},
   "outputs": [
    {
     "data": {
      "image/png": "[encoded data removed]",
      "text/plain": [
       "<Figure size 1296x288 with 4 Axes>"
      ]
     },
     "metadata": {
      "needs_background": "light"
     },
     "output_type": "display_data"
    }
   ],
   "source": [
    "distribution (reg_3, 'Гисторгамма данных третьего региона', 50)"
   ]
  },
  {
   "cell_type": "markdown",
   "metadata": {},
   "source": [
    "По гистограммам можно сказать, что распределение данных как по регионам, так и по признакам различно. В данном случае можно выделить второй регион. "
   ]
  },
  {
   "cell_type": "markdown",
   "metadata": {},
   "source": [
    "**Исследуем взаимосвязь в данных на основе корреляции Пирсона**"
   ]
  },
  {
   "cell_type": "code",
   "execution_count": 18,
   "metadata": {},
   "outputs": [
    {
     "data": {
      "text/html": [
       "<div>\n",
       "<style scoped>\n",
       "    .dataframe tbody tr th:only-of-type {\n",
       "        vertical-align: middle;\n",
       "    }\n",
       "\n",
       "    .dataframe tbody tr th {\n",
       "        vertical-align: top;\n",
       "    }\n",
       "\n",
       "    .dataframe thead th {\n",
       "        text-align: right;\n",
       "    }\n",
       "</style>\n",
       "<table border=\"1\" class=\"dataframe\">\n",
       "  <thead>\n",
       "    <tr style=\"text-align: right;\">\n",
       "      <th></th>\n",
       "      <th>f0</th>\n",
       "      <th>f1</th>\n",
       "      <th>f2</th>\n",
       "      <th>product</th>\n",
       "    </tr>\n",
       "  </thead>\n",
       "  <tbody>\n",
       "    <tr>\n",
       "      <th>f0</th>\n",
       "      <td>1.000000</td>\n",
       "      <td>-0.440723</td>\n",
       "      <td>-0.003153</td>\n",
       "      <td>0.143536</td>\n",
       "    </tr>\n",
       "    <tr>\n",
       "      <th>f1</th>\n",
       "      <td>-0.440723</td>\n",
       "      <td>1.000000</td>\n",
       "      <td>0.001724</td>\n",
       "      <td>-0.192356</td>\n",
       "    </tr>\n",
       "    <tr>\n",
       "      <th>f2</th>\n",
       "      <td>-0.003153</td>\n",
       "      <td>0.001724</td>\n",
       "      <td>1.000000</td>\n",
       "      <td>0.483663</td>\n",
       "    </tr>\n",
       "    <tr>\n",
       "      <th>product</th>\n",
       "      <td>0.143536</td>\n",
       "      <td>-0.192356</td>\n",
       "      <td>0.483663</td>\n",
       "      <td>1.000000</td>\n",
       "    </tr>\n",
       "  </tbody>\n",
       "</table>\n",
       "</div>"
      ],
      "text/plain": [
       "               f0        f1        f2   product\n",
       "f0       1.000000 -0.440723 -0.003153  0.143536\n",
       "f1      -0.440723  1.000000  0.001724 -0.192356\n",
       "f2      -0.003153  0.001724  1.000000  0.483663\n",
       "product  0.143536 -0.192356  0.483663  1.000000"
      ]
     },
     "execution_count": 18,
     "metadata": {},
     "output_type": "execute_result"
    }
   ],
   "source": [
    "# корреляционный анализ первого региона\n",
    "\n",
    "reg_1.corr()"
   ]
  },
  {
   "cell_type": "code",
   "execution_count": 19,
   "metadata": {},
   "outputs": [
    {
     "data": {
      "text/html": [
       "<div>\n",
       "<style scoped>\n",
       "    .dataframe tbody tr th:only-of-type {\n",
       "        vertical-align: middle;\n",
       "    }\n",
       "\n",
       "    .dataframe tbody tr th {\n",
       "        vertical-align: top;\n",
       "    }\n",
       "\n",
       "    .dataframe thead th {\n",
       "        text-align: right;\n",
       "    }\n",
       "</style>\n",
       "<table border=\"1\" class=\"dataframe\">\n",
       "  <thead>\n",
       "    <tr style=\"text-align: right;\">\n",
       "      <th></th>\n",
       "      <th>f0</th>\n",
       "      <th>f1</th>\n",
       "      <th>f2</th>\n",
       "      <th>product</th>\n",
       "    </tr>\n",
       "  </thead>\n",
       "  <tbody>\n",
       "    <tr>\n",
       "      <th>f0</th>\n",
       "      <td>1.000000</td>\n",
       "      <td>0.182287</td>\n",
       "      <td>-0.001777</td>\n",
       "      <td>-0.030491</td>\n",
       "    </tr>\n",
       "    <tr>\n",
       "      <th>f1</th>\n",
       "      <td>0.182287</td>\n",
       "      <td>1.000000</td>\n",
       "      <td>-0.002595</td>\n",
       "      <td>-0.010155</td>\n",
       "    </tr>\n",
       "    <tr>\n",
       "      <th>f2</th>\n",
       "      <td>-0.001777</td>\n",
       "      <td>-0.002595</td>\n",
       "      <td>1.000000</td>\n",
       "      <td>0.999397</td>\n",
       "    </tr>\n",
       "    <tr>\n",
       "      <th>product</th>\n",
       "      <td>-0.030491</td>\n",
       "      <td>-0.010155</td>\n",
       "      <td>0.999397</td>\n",
       "      <td>1.000000</td>\n",
       "    </tr>\n",
       "  </tbody>\n",
       "</table>\n",
       "</div>"
      ],
      "text/plain": [
       "               f0        f1        f2   product\n",
       "f0       1.000000  0.182287 -0.001777 -0.030491\n",
       "f1       0.182287  1.000000 -0.002595 -0.010155\n",
       "f2      -0.001777 -0.002595  1.000000  0.999397\n",
       "product -0.030491 -0.010155  0.999397  1.000000"
      ]
     },
     "execution_count": 19,
     "metadata": {},
     "output_type": "execute_result"
    }
   ],
   "source": [
    "# корреляционный анализ второго региона\n",
    "\n",
    "reg_2.corr()"
   ]
  },
  {
   "cell_type": "code",
   "execution_count": 20,
   "metadata": {},
   "outputs": [
    {
     "data": {
      "text/html": [
       "<div>\n",
       "<style scoped>\n",
       "    .dataframe tbody tr th:only-of-type {\n",
       "        vertical-align: middle;\n",
       "    }\n",
       "\n",
       "    .dataframe tbody tr th {\n",
       "        vertical-align: top;\n",
       "    }\n",
       "\n",
       "    .dataframe thead th {\n",
       "        text-align: right;\n",
       "    }\n",
       "</style>\n",
       "<table border=\"1\" class=\"dataframe\">\n",
       "  <thead>\n",
       "    <tr style=\"text-align: right;\">\n",
       "      <th></th>\n",
       "      <th>f0</th>\n",
       "      <th>f1</th>\n",
       "      <th>f2</th>\n",
       "      <th>product</th>\n",
       "    </tr>\n",
       "  </thead>\n",
       "  <tbody>\n",
       "    <tr>\n",
       "      <th>f0</th>\n",
       "      <td>1.000000</td>\n",
       "      <td>0.000528</td>\n",
       "      <td>-0.000448</td>\n",
       "      <td>-0.001987</td>\n",
       "    </tr>\n",
       "    <tr>\n",
       "      <th>f1</th>\n",
       "      <td>0.000528</td>\n",
       "      <td>1.000000</td>\n",
       "      <td>0.000779</td>\n",
       "      <td>-0.001012</td>\n",
       "    </tr>\n",
       "    <tr>\n",
       "      <th>f2</th>\n",
       "      <td>-0.000448</td>\n",
       "      <td>0.000779</td>\n",
       "      <td>1.000000</td>\n",
       "      <td>0.445871</td>\n",
       "    </tr>\n",
       "    <tr>\n",
       "      <th>product</th>\n",
       "      <td>-0.001987</td>\n",
       "      <td>-0.001012</td>\n",
       "      <td>0.445871</td>\n",
       "      <td>1.000000</td>\n",
       "    </tr>\n",
       "  </tbody>\n",
       "</table>\n",
       "</div>"
      ],
      "text/plain": [
       "               f0        f1        f2   product\n",
       "f0       1.000000  0.000528 -0.000448 -0.001987\n",
       "f1       0.000528  1.000000  0.000779 -0.001012\n",
       "f2      -0.000448  0.000779  1.000000  0.445871\n",
       "product -0.001987 -0.001012  0.445871  1.000000"
      ]
     },
     "execution_count": 20,
     "metadata": {},
     "output_type": "execute_result"
    }
   ],
   "source": [
    "# корреляционный анализ третьего региона\n",
    "\n",
    "reg_3.corr()"
   ]
  },
  {
   "cell_type": "markdown",
   "metadata": {},
   "source": [
    "В данных трех регионов присутствует линейная зависимость между признаком `f2` и целевым признаком `product`, особо сильно взаимосвязь наблюдается во втором регионе. Также для признаков `f1` и `f0` первого региона наблюдается отрицательная линейная взаимосвязь. "
   ]
  },
  {
   "cell_type": "markdown",
   "metadata": {},
   "source": [
    "**Промежуточный вывод**. Данные трех регионов имеют одинаковый объем: 5 столбцов и 100000 строк. Типы данных корректны, пропуски отсутствуют. Имеются дубликаты по `id` и выбросы в признаках. Распределение признаков по регионам различно, между признаком `f2` и целевым признаком `product` наблюдается линейная взаимосвязь."
   ]
  },
  {
   "cell_type": "markdown",
   "metadata": {},
   "source": [
    "## Обучение и проверка модели каждого региона"
   ]
  },
  {
   "cell_type": "markdown",
   "metadata": {},
   "source": [
    "### Подготовка признаков"
   ]
  },
  {
   "cell_type": "markdown",
   "metadata": {},
   "source": [
    "**Выделим признаки и целевой признак**"
   ]
  },
  {
   "cell_type": "code",
   "execution_count": 21,
   "metadata": {},
   "outputs": [],
   "source": [
    "# первый регион\n",
    "\n",
    "target_reg_1 = reg_1['product']\n",
    "features_reg_1 = reg_1.drop('product', axis=1)"
   ]
  },
  {
   "cell_type": "code",
   "execution_count": 22,
   "metadata": {},
   "outputs": [],
   "source": [
    "# второй регион\n",
    "\n",
    "target_reg_2 = reg_2['product']\n",
    "features_reg_2 = reg_2.drop('product', axis=1)"
   ]
  },
  {
   "cell_type": "code",
   "execution_count": 23,
   "metadata": {},
   "outputs": [],
   "source": [
    "# третий регион\n",
    "\n",
    "target_reg_3 = reg_3['product']\n",
    "features_reg_3 = reg_3.drop('product', axis=1)"
   ]
  },
  {
   "cell_type": "markdown",
   "metadata": {},
   "source": [
    "**Разобъем данные на обучающую и валидационную выборки**"
   ]
  },
  {
   "cell_type": "code",
   "execution_count": 24,
   "metadata": {},
   "outputs": [
    {
     "name": "stdout",
     "output_type": "stream",
     "text": [
      "Объем обучающей выборки первого региона: (75000, 3)\n",
      "Объем валидационной выборки первого региона: (25000, 3)\n"
     ]
    }
   ],
   "source": [
    "# первый регион\n",
    "\n",
    "feat_train_1, feat_valid_1, target_train_1, target_valid_1 = train_test_split(features_reg_1,\n",
    "                                                                              target_reg_1, \n",
    "                                                                              test_size=0.25, \n",
    "                                                                              random_state=12345)\n",
    "print('Объем обучающей выборки первого региона:', feat_train_1.shape)\n",
    "print('Объем валидационной выборки первого региона:', feat_valid_1.shape)"
   ]
  },
  {
   "cell_type": "code",
   "execution_count": 25,
   "metadata": {},
   "outputs": [
    {
     "name": "stdout",
     "output_type": "stream",
     "text": [
      "Объем обучающей выборки второго региона: (75000, 3)\n",
      "Объем валидационной выборки второго региона: (25000, 3)\n"
     ]
    }
   ],
   "source": [
    "# второй регион\n",
    "\n",
    "feat_train_2, feat_valid_2, target_train_2, target_valid_2 = train_test_split(features_reg_2,\n",
    "                                                                              target_reg_2, \n",
    "                                                                              test_size=0.25, \n",
    "                                                                              random_state=12345)\n",
    "print('Объем обучающей выборки второго региона:', feat_train_2.shape)\n",
    "print('Объем валидационной выборки второго региона:', feat_valid_2.shape)"
   ]
  },
  {
   "cell_type": "code",
   "execution_count": 26,
   "metadata": {},
   "outputs": [
    {
     "name": "stdout",
     "output_type": "stream",
     "text": [
      "Объем обучающей выборки третьего региона: (75000, 3)\n",
      "Объем валидационной выборки второго региона: (25000, 3)\n"
     ]
    }
   ],
   "source": [
    "# третий регион\n",
    "\n",
    "feat_train_3, feat_valid_3, target_train_3, target_valid_3 = train_test_split(features_reg_3,\n",
    "                                                                              target_reg_3, \n",
    "                                                                              test_size=0.25, \n",
    "                                                                              random_state=12345)\n",
    "print('Объем обучающей выборки третьего региона:', feat_train_3.shape)\n",
    "print('Объем валидационной выборки второго региона:', feat_valid_3.shape)"
   ]
  },
  {
   "cell_type": "markdown",
   "metadata": {},
   "source": [
    "**Выполним масштабирование признаков**\n",
    "\n",
    "Данные геологоразведки имеют разный размах значений, поэтому выполним масштабирование признаков "
   ]
  },
  {
   "cell_type": "code",
   "execution_count": 27,
   "metadata": {},
   "outputs": [],
   "source": [
    "# скрываем предупреждение Python\n",
    "\n",
    "pd.options.mode.chained_assignment = None\n",
    "\n",
    "# масштабируем признаки выборок\n",
    "\n",
    "numeric = ['f0', 'f1', 'f2']"
   ]
  },
  {
   "cell_type": "code",
   "execution_count": 28,
   "metadata": {},
   "outputs": [],
   "source": [
    "# первый регион\n",
    "\n",
    "scaler_1 = StandardScaler()\n",
    "scaler_1.fit(feat_train_1[numeric])\n",
    "\n",
    "feat_train_1[numeric] = scaler_1.transform(feat_train_1[numeric])\n",
    "feat_valid_1[numeric] = scaler_1.transform(feat_valid_1[numeric])"
   ]
  },
  {
   "cell_type": "code",
   "execution_count": 29,
   "metadata": {},
   "outputs": [],
   "source": [
    "# второй регион\n",
    "\n",
    "scaler_2 = StandardScaler()\n",
    "scaler_2.fit(feat_train_2[numeric])\n",
    "\n",
    "feat_train_2[numeric] = scaler_2.transform(feat_train_2[numeric])\n",
    "feat_valid_2[numeric] = scaler_2.transform(feat_valid_2[numeric])"
   ]
  },
  {
   "cell_type": "code",
   "execution_count": 30,
   "metadata": {},
   "outputs": [],
   "source": [
    "# третий регион\n",
    "\n",
    "scaler_3 = StandardScaler()\n",
    "scaler_3.fit(feat_train_3[numeric])\n",
    "\n",
    "feat_train_3[numeric] = scaler_3.transform(feat_train_3[numeric])\n",
    "feat_valid_3[numeric] = scaler_3.transform(feat_valid_3[numeric])"
   ]
  },
  {
   "cell_type": "markdown",
   "metadata": {},
   "source": [
    "### Обучение модели и прогнозирование объема запасов нефти"
   ]
  },
  {
   "cell_type": "markdown",
   "metadata": {},
   "source": [
    "**Первый регион**"
   ]
  },
  {
   "cell_type": "code",
   "execution_count": 31,
   "metadata": {},
   "outputs": [
    {
     "name": "stdout",
     "output_type": "stream",
     "text": [
      "\n",
      "Предсказания запасов нефти: predict_valid_1\n",
      "Реальные запасы нефти: target_valid_1\n"
     ]
    }
   ],
   "source": [
    "# обучение модели на тренировочной выборке и предсказание на валидационной\n",
    "\n",
    "model_1 = LinearRegression().fit(feat_train_1, target_train_1)\n",
    "predict_valid_1 = model_1.predict(feat_valid_1)\n",
    "\n",
    "print('')\n",
    "print('Предсказания запасов нефти: predict_valid_1')\n",
    "print('Реальные запасы нефти: target_valid_1')"
   ]
  },
  {
   "cell_type": "code",
   "execution_count": 32,
   "metadata": {},
   "outputs": [
    {
     "name": "stdout",
     "output_type": "stream",
     "text": [
      "RMSE модели первого региона: 37.5794217150813\n"
     ]
    }
   ],
   "source": [
    "# рассчет метрики RMSE\n",
    "\n",
    "rmse_1 = mean_squared_error(target_valid_1, predict_valid_1)**0.5\n",
    "print('RMSE модели первого региона:', rmse_1)"
   ]
  },
  {
   "cell_type": "markdown",
   "metadata": {},
   "source": [
    "**Второй регион**"
   ]
  },
  {
   "cell_type": "code",
   "execution_count": 33,
   "metadata": {},
   "outputs": [
    {
     "name": "stdout",
     "output_type": "stream",
     "text": [
      "\n",
      "Предсказания запасов нефти: predict_valid_2\n",
      "Реальные запасы нефти: target_valid_2\n"
     ]
    }
   ],
   "source": [
    "# обучение модели на тренировочной выборке и предсказание на валидационной\n",
    "\n",
    "model_2 = LinearRegression().fit(feat_train_2, target_train_2)\n",
    "predict_valid_2 = model_2.predict(feat_valid_2)\n",
    "\n",
    "print('')\n",
    "print('Предсказания запасов нефти: predict_valid_2')\n",
    "print('Реальные запасы нефти: target_valid_2')"
   ]
  },
  {
   "cell_type": "code",
   "execution_count": 34,
   "metadata": {},
   "outputs": [
    {
     "name": "stdout",
     "output_type": "stream",
     "text": [
      "RMSE модели второго региона: 0.893099286775617\n"
     ]
    }
   ],
   "source": [
    "# рассчет метрики RMSE\n",
    "\n",
    "rmse_2 = mean_squared_error(target_valid_2, predict_valid_2)**0.5\n",
    "print('RMSE модели второго региона:', rmse_2)"
   ]
  },
  {
   "cell_type": "markdown",
   "metadata": {},
   "source": [
    "**Третий регион**"
   ]
  },
  {
   "cell_type": "code",
   "execution_count": 35,
   "metadata": {},
   "outputs": [
    {
     "name": "stdout",
     "output_type": "stream",
     "text": [
      "\n",
      "Предсказания запасов нефти: predict_valid_3\n",
      "Реальные запасы нефти: target_valid_3\n"
     ]
    }
   ],
   "source": [
    "# обучение модели на тренировочной выборке и предсказание на валидационной\n",
    "\n",
    "model_3 = LinearRegression().fit(feat_train_3, target_train_3)\n",
    "predict_valid_3 = model_3.predict(feat_valid_3)\n",
    "\n",
    "print('')\n",
    "print('Предсказания запасов нефти: predict_valid_3')\n",
    "print('Реальные запасы нефти: target_valid_3')"
   ]
  },
  {
   "cell_type": "code",
   "execution_count": 36,
   "metadata": {},
   "outputs": [
    {
     "name": "stdout",
     "output_type": "stream",
     "text": [
      "RMSE модели третьего региона: 40.02970873393434\n"
     ]
    }
   ],
   "source": [
    "# рассчет метрики RMSE\n",
    "\n",
    "rmse_3 = mean_squared_error(target_valid_3, predict_valid_3)**0.5\n",
    "print('RMSE модели третьего региона:', rmse_3)"
   ]
  },
  {
   "cell_type": "markdown",
   "metadata": {},
   "source": [
    "**Сводная таблица по запасам нефти**"
   ]
  },
  {
   "cell_type": "code",
   "execution_count": 37,
   "metadata": {},
   "outputs": [
    {
     "data": {
      "text/html": [
       "<div>\n",
       "<style scoped>\n",
       "    .dataframe tbody tr th:only-of-type {\n",
       "        vertical-align: middle;\n",
       "    }\n",
       "\n",
       "    .dataframe tbody tr th {\n",
       "        vertical-align: top;\n",
       "    }\n",
       "\n",
       "    .dataframe thead th {\n",
       "        text-align: right;\n",
       "    }\n",
       "</style>\n",
       "<table border=\"1\" class=\"dataframe\">\n",
       "  <thead>\n",
       "    <tr style=\"text-align: right;\">\n",
       "      <th></th>\n",
       "      <th>Первый регион</th>\n",
       "      <th>Второй регион</th>\n",
       "      <th>Третий регион</th>\n",
       "    </tr>\n",
       "  </thead>\n",
       "  <tbody>\n",
       "    <tr>\n",
       "      <th>Средний запас предсказанного сырья</th>\n",
       "      <td>92.592568</td>\n",
       "      <td>68.728547</td>\n",
       "      <td>94.965046</td>\n",
       "    </tr>\n",
       "    <tr>\n",
       "      <th>RMSE модели</th>\n",
       "      <td>37.579422</td>\n",
       "      <td>0.893099</td>\n",
       "      <td>40.029709</td>\n",
       "    </tr>\n",
       "  </tbody>\n",
       "</table>\n",
       "</div>"
      ],
      "text/plain": [
       "                                    Первый регион  Второй регион  \\\n",
       "Средний запас предсказанного сырья      92.592568      68.728547   \n",
       "RMSE модели                             37.579422       0.893099   \n",
       "\n",
       "                                    Третий регион  \n",
       "Средний запас предсказанного сырья      94.965046  \n",
       "RMSE модели                             40.029709  "
      ]
     },
     "execution_count": 37,
     "metadata": {},
     "output_type": "execute_result"
    }
   ],
   "source": [
    "total_table = pd.DataFrame(index=['Средний запас предсказанного сырья', 'RMSE модели'], \n",
    "                           columns=['Первый регион', 'Второй регион', 'Третий регион'])\n",
    "total_table['Первый регион'] = predict_valid_1.mean(), rmse_1\n",
    "total_table['Второй регион'] = predict_valid_2.mean(), rmse_2\n",
    "total_table['Третий регион'] = predict_valid_3.mean(), rmse_3\n",
    "total_table"
   ]
  },
  {
   "cell_type": "markdown",
   "metadata": {},
   "source": [
    "**Промежуточный вывод.** Поскольку данные и целевой признак количественные, то для решения поставленной задачи выбрана модель линейная регрессия. На основе обученной модели получено прогнозное значение среднего запаса сырья в каждом регионе. Для оценки качества модели рассчитана метрика среднеквадратическая ошибка (RMSE):\n",
    "\n",
    "- средний запас нефти для первого региона: 92.59 и RMSE 37.6;\n",
    "- средний запас нефти для второго региона: 68.73 и RMSE 0.89;\n",
    "- средний запас нефти для третьего региона: 94.97 и RMSE 40.03\n",
    "\n",
    "Минимальная RMSE получена для данных второго региона, это очевидно, поскольку между признаком `f2` и целевым признаком `product` в п. 1.2 выявлена сильная линейная зависимость. При этом для второго региона спрогнозирован наименьший объем сырья."
   ]
  },
  {
   "cell_type": "markdown",
   "metadata": {},
   "source": [
    "## Подготовка к расчёту прибыли"
   ]
  },
  {
   "cell_type": "markdown",
   "metadata": {},
   "source": [
    "**Сохраним ключевые значения из условия задачи в отдельных переменных**"
   ]
  },
  {
   "cell_type": "code",
   "execution_count": 38,
   "metadata": {},
   "outputs": [],
   "source": [
    "budget = 10000000000         # бюджет на разработку скважин\n",
    "points_per_budget = 200      # количество точек для разработки при заданном бюджете\n",
    "income_per_barrel = 450000   # доход с одной тысячи барреля сырья\n",
    "well_num = 500               # количество рабочих скважин"
   ]
  },
  {
   "cell_type": "code",
   "execution_count": 39,
   "metadata": {},
   "outputs": [
    {
     "name": "stdout",
     "output_type": "stream",
     "text": [
      "Количество сырья для безубыточной разработки (тыс.баррелей): 111.11111111111111\n"
     ]
    }
   ],
   "source": [
    "# объем сырья для безубыточной разработки 200 скважин\n",
    "\n",
    "profit_product = budget / income_per_barrel\n",
    "\n",
    "# объем сырья для безубыточной разработки 1 скважины\n",
    "\n",
    "well_profit = profit_product / points_per_budget\n",
    "print('Количество сырья для безубыточной разработки (тыс.баррелей):', well_profit)"
   ]
  },
  {
   "cell_type": "markdown",
   "metadata": {},
   "source": [
    "**Промежуточный вывод.** Анализируя средние предсказанные запасы сырья можно сказать, что максимальные запасы показывает третий регион - 94,96 тыс.баррелей, при этом данного объема недостаточно на 14,5% для безубыточной разработки."
   ]
  },
  {
   "cell_type": "markdown",
   "metadata": {},
   "source": [
    "## Расчёт прибыли и рисков "
   ]
  },
  {
   "cell_type": "markdown",
   "metadata": {},
   "source": [
    "### Функция для расчёта прибыли по выбранным скважинам и предсказаниям модели"
   ]
  },
  {
   "cell_type": "code",
   "execution_count": 40,
   "metadata": {},
   "outputs": [],
   "source": [
    "def revenue(target, predict, points_per_budget):\n",
    "    \n",
    "    # приводим к единообразию данные\n",
    "    # сортируем прогнозы по убыванию, чтобы выбрать 200 скважин с наибольшим объемом предсказания (predict_sorted)\n",
    "    # отбираем реальный объем лучших по прогнозам скважин (selected_well)\n",
    "    \n",
    "    target = target.reset_index(drop=True)\n",
    "    predict = pd.Series(predict)\n",
    "    \n",
    "    predict_sorted = predict.sort_values(ascending=False)\n",
    "    selected_well = target[predict_sorted.index][:points_per_budget]\n",
    "    income = (income_per_barrel * selected_well.sum()) - budget\n",
    "    \n",
    "    return income "
   ]
  },
  {
   "cell_type": "code",
   "execution_count": 41,
   "metadata": {},
   "outputs": [
    {
     "name": "stdout",
     "output_type": "stream",
     "text": [
      "Прибыль от объема сырья первого региона: 3320826043.1398506\n"
     ]
    }
   ],
   "source": [
    "# прибыль от 200 скважин первого региона\n",
    "\n",
    "income = revenue(target_valid_1, predict_valid_1, points_per_budget)\n",
    "print(\"Прибыль от объема сырья первого региона:\", income)"
   ]
  },
  {
   "cell_type": "code",
   "execution_count": 42,
   "metadata": {},
   "outputs": [
    {
     "name": "stdout",
     "output_type": "stream",
     "text": [
      "Прибыль от объема сырья второго региона: 2415086696.681511\n"
     ]
    }
   ],
   "source": [
    "# прибыль от 200 скважин второго региона\n",
    "\n",
    "income = revenue(target_valid_2, predict_valid_2, points_per_budget)\n",
    "print(\"Прибыль от объема сырья второго региона:\", income)"
   ]
  },
  {
   "cell_type": "code",
   "execution_count": 43,
   "metadata": {},
   "outputs": [
    {
     "name": "stdout",
     "output_type": "stream",
     "text": [
      "Прибыль от объема сырья третьего региона: 2710349963.5998325\n"
     ]
    }
   ],
   "source": [
    "# прибыль от 200 скважин третьего региона\n",
    "\n",
    "income = revenue(target_valid_3, predict_valid_3, points_per_budget)\n",
    "print(\"Прибыль от объема сырья третьего региона:\", income)"
   ]
  },
  {
   "cell_type": "markdown",
   "metadata": {},
   "source": [
    "### Посчитайте риски и прибыль для каждого региона"
   ]
  },
  {
   "cell_type": "markdown",
   "metadata": {},
   "source": [
    "**Рассчет рисков и прибыли**"
   ]
  },
  {
   "cell_type": "code",
   "execution_count": 44,
   "metadata": {},
   "outputs": [],
   "source": [
    "# values - массив со значениями прибыли (распределение прибыли), длина массива 1000\n",
    "# сэмплируем прогнозные значения (а не target, так как проблемы и ошибки с индексами) по 500 скважин\n",
    "# рассчитываем income с помощью функции revenue\n",
    "# count - счетчик для убытков\n",
    "\n",
    "def income_loss(predict, target):\n",
    "    \n",
    "    values = [] \n",
    "    count = 0\n",
    "    state = np.random.RandomState(12345)\n",
    "\n",
    "    for i in range(1000):\n",
    "        predict_subsample = pd.Series(predict).sample(n=well_num, replace=True, random_state=state) \n",
    "        values.append(revenue(target, predict_subsample, points_per_budget))\n",
    "\n",
    "    values = pd.Series(values)\n",
    "    \n",
    "    mean = values.mean()                # средняя прибыль по лучшим 200 скважинам\n",
    "    lower_95 = values.quantile(0.025)   # верхняя граница 95% квантиля\n",
    "    upper_95 = values.quantile(0.975)   # нижняя граница 95% квантиля\n",
    "    \n",
    "# рассчет убытков\n",
    "    \n",
    "    for i in range(len(values)):\n",
    "        if values[i] < 0:\n",
    "            count += 1\n",
    "            loss = (count*100)/1000\n",
    "    \n",
    "    return mean, lower_95, upper_95, loss"
   ]
  },
  {
   "cell_type": "markdown",
   "metadata": {},
   "source": [
    "**Первый регион**"
   ]
  },
  {
   "cell_type": "code",
   "execution_count": 45,
   "metadata": {},
   "outputs": [
    {
     "name": "stdout",
     "output_type": "stream",
     "text": [
      "Средняя прогнозируемая прибыль: 396164984.8023711\n",
      "95% доверительный интервал: прибыль может варьироваться в диапазоне от -111215545.89049526 до 909766941.5534226\n",
      "Риск убытков: 6.9 %\n"
     ]
    }
   ],
   "source": [
    "mean_1, lower_95, upper_95, loss_1 = income_loss(predict_valid_1, target_valid_1)\n",
    "print('Средняя прогнозируемая прибыль:', mean_1)\n",
    "print('95% доверительный интервал: прибыль может варьироваться в диапазоне от', lower_95, 'до', upper_95)\n",
    "print('Риск убытков:', loss_1,'%')"
   ]
  },
  {
   "cell_type": "markdown",
   "metadata": {},
   "source": [
    "**Второй регион**"
   ]
  },
  {
   "cell_type": "code",
   "execution_count": 46,
   "metadata": {},
   "outputs": [
    {
     "name": "stdout",
     "output_type": "stream",
     "text": [
      "Средняя прогнозируемая прибыль: 456045105.7866608\n",
      "95% доверительный интервал: прибыль может варьироваться в диапазоне от 33820509.39898363 до 852289453.866036\n",
      "Риск убытков: 1.5 %\n"
     ]
    }
   ],
   "source": [
    "mean_2, lower_95, upper_95, loss_2 = income_loss(predict_valid_2, target_valid_2)\n",
    "print('Средняя прогнозируемая прибыль:', mean_2)\n",
    "print('95% доверительный интервал: прибыль может варьироваться в диапазоне от', lower_95, 'до', upper_95)\n",
    "print('Риск убытков:', loss_2,'%')"
   ]
  },
  {
   "cell_type": "markdown",
   "metadata": {},
   "source": [
    "**Третий регион**"
   ]
  },
  {
   "cell_type": "code",
   "execution_count": 47,
   "metadata": {},
   "outputs": [
    {
     "name": "stdout",
     "output_type": "stream",
     "text": [
      "Средняя прогнозируемая прибыль: 404403866.5683568\n",
      "95% доверительный интервал: прибыль может варьироваться в диапазоне от -163350413.39560106 до 950359574.9237995\n",
      "Риск убытков: 7.6 %\n"
     ]
    }
   ],
   "source": [
    "mean_3, lower_95, upper_95, loss_3 = income_loss(predict_valid_3, target_valid_3)\n",
    "print('Средняя прогнозируемая прибыль:', mean_3)\n",
    "print('95% доверительный интервал: прибыль может варьироваться в диапазоне от', lower_95, 'до', upper_95)\n",
    "print('Риск убытков:', loss_3,'%')"
   ]
  },
  {
   "cell_type": "code",
   "execution_count": 48,
   "metadata": {},
   "outputs": [
    {
     "data": {
      "text/html": [
       "<div>\n",
       "<style scoped>\n",
       "    .dataframe tbody tr th:only-of-type {\n",
       "        vertical-align: middle;\n",
       "    }\n",
       "\n",
       "    .dataframe tbody tr th {\n",
       "        vertical-align: top;\n",
       "    }\n",
       "\n",
       "    .dataframe thead th {\n",
       "        text-align: right;\n",
       "    }\n",
       "</style>\n",
       "<table border=\"1\" class=\"dataframe\">\n",
       "  <thead>\n",
       "    <tr style=\"text-align: right;\">\n",
       "      <th></th>\n",
       "      <th>Первый регион</th>\n",
       "      <th>Второй регион</th>\n",
       "      <th>Третий регион</th>\n",
       "    </tr>\n",
       "  </thead>\n",
       "  <tbody>\n",
       "    <tr>\n",
       "      <th>Средняя прогнозируемая прибыль</th>\n",
       "      <td>3.961650e+08</td>\n",
       "      <td>4.560451e+08</td>\n",
       "      <td>4.044039e+08</td>\n",
       "    </tr>\n",
       "    <tr>\n",
       "      <th>Риск убытков</th>\n",
       "      <td>6.900000e+00</td>\n",
       "      <td>1.500000e+00</td>\n",
       "      <td>7.600000e+00</td>\n",
       "    </tr>\n",
       "  </tbody>\n",
       "</table>\n",
       "</div>"
      ],
      "text/plain": [
       "                                Первый регион  Второй регион  Третий регион\n",
       "Средняя прогнозируемая прибыль   3.961650e+08   4.560451e+08   4.044039e+08\n",
       "Риск убытков                     6.900000e+00   1.500000e+00   7.600000e+00"
      ]
     },
     "execution_count": 48,
     "metadata": {},
     "output_type": "execute_result"
    }
   ],
   "source": [
    "final_table = pd.DataFrame(index=['Средняя прогнозируемая прибыль', 'Риск убытков'], \n",
    "                           columns=['Первый регион', 'Второй регион', 'Третий регион'])\n",
    "final_table['Первый регион'] = mean_1, 6.9\n",
    "final_table['Второй регион'] = mean_2, 1.5\n",
    "final_table['Третий регион'] = mean_3, 7.6\n",
    "final_table"
   ]
  },
  {
   "cell_type": "code",
   "execution_count": 49,
   "metadata": {},
   "outputs": [
    {
     "data": {
      "image/png": "[encoded data removed]",
      "text/plain": [
       "<Figure size 1008x288 with 2 Axes>"
      ]
     },
     "metadata": {
      "needs_background": "light"
     },
     "output_type": "display_data"
    }
   ],
   "source": [
    "fig, axes = plt.subplots(1, 2, figsize=(14, 4))\n",
    "\n",
    "final_table.iloc[0,:].plot(kind=\"bar\", grid=True, alpha=0.7, subplots=True, ax=axes[0])\n",
    "final_table.iloc[1,:].plot(kind=\"bar\", grid=True, alpha=0.7, subplots=True, ax=axes[1]);"
   ]
  },
  {
   "cell_type": "markdown",
   "metadata": {},
   "source": [
    "**Промежуточный вывод.** Для рассчета рисков и прибыли в каждом регионе применена техника bootstrap. Анализ финальной таблицы показывает, что менее рисковый регион - второй (с риском убытков 1.5%). Также данный регион показыват наибольшую среднюю прогнозируемую прибыль. Для первого и третьего региона риск убытков составляет 6,9 и 7,6%, соответственно."
   ]
  },
  {
   "cell_type": "markdown",
   "metadata": {},
   "source": [
    "## Общий вывод"
   ]
  },
  {
   "cell_type": "markdown",
   "metadata": {},
   "source": [
    "Проект направлен на построение модели, позволяющей определить перспективный регион для добычи нефти. В качестве исходной информации предоставлены данные геологоразведки трех регионов. Необходимо определить регион, для которого риск убытков составит менее 2.5%.\n",
    "\n",
    "1. На **этапе предобработки данных:** \n",
    "- выявлены дубликаты в столбце с наименованием скважин, а также \"слабые\" выбросы в признаках точек `f0`, `f1`, `f2`. Поскольку развернутой информации о данных не предоставлено, то никакие действия с ними не выполнялись.\n",
    "- анализ статистических характеристик данных (диаграмма размаха, гистограмма и коэффициенты корреляции по Пирсону) показал, что среди регионов особо выделяется второй.\n",
    "\n",
    "2. На **этапе обучения и проверки модели** выполнено разбиение выборки на обучающую и валидационную, а также масштабирование признаков. Поскольку решается задача регрессии и целевой признак количественный, в качестве модели рассмотрена линейная регрессия. На ее основе получен прогноз запасов сырья в каждом регионе, для оценки качества модели выбрана метрика RMSE:\n",
    "\n",
    "- средний запас нефти для первого региона: 92.59 и RMSE 37.6;\n",
    "- средний запас нефти для второго региона: 68.73 и RMSE 0.89;\n",
    "- средний запас нефти для третьего региона: 94.97 и RMSE 40.03\n",
    "\n",
    "По прогнозу запасов сырья лидирует третий регион, но при этом имеет и наибольшую ошибку RMSE. Наименьший объем сырья по прогнозу показал второй регион, но также для модели данного региона получена наименьшая RMSE.\n",
    "\n",
    "3. На **этапе рассчета прибыли и рисков** для каждого региона применена техника bootstrap и получены средняя прогнозируемая прибыль и риск убытков. Учитывая условия задачи - ограничение по риску не более 2,5%, более перспективный регион для безубыточной разработки - **второй регион**. Он показал риск в 1,5% и среднюю прогнозируемую прибыль в размере 456045105.78 руб. "
   ]
  }
 ],
 "metadata": {
  "ExecuteTimeLog": [
   {
    "duration": 432,
    "start_time": "2023-03-06T12:52:58.398Z"
   },
   {
    "duration": 918,
    "start_time": "2023-03-06T12:55:55.411Z"
   },
   {
    "duration": 26,
    "start_time": "2023-03-06T12:56:02.533Z"
   },
   {
    "duration": 2512,
    "start_time": "2023-03-06T12:56:57.683Z"
   },
   {
    "duration": 10,
    "start_time": "2023-03-06T13:02:47.001Z"
   },
   {
    "duration": 79,
    "start_time": "2023-03-06T13:03:19.916Z"
   },
   {
    "duration": 17,
    "start_time": "2023-03-06T13:03:25.327Z"
   },
   {
    "duration": 590,
    "start_time": "2023-03-06T13:07:16.884Z"
   },
   {
    "duration": 22,
    "start_time": "2023-03-06T13:07:21.216Z"
   },
   {
    "duration": 20,
    "start_time": "2023-03-06T13:07:24.289Z"
   },
   {
    "duration": 33,
    "start_time": "2023-03-06T13:07:47.882Z"
   },
   {
    "duration": 20,
    "start_time": "2023-03-06T13:09:36.306Z"
   },
   {
    "duration": 137,
    "start_time": "2023-03-06T13:09:52.146Z"
   },
   {
    "duration": 31,
    "start_time": "2023-03-06T13:10:13.653Z"
   },
   {
    "duration": 47,
    "start_time": "2023-03-06T13:15:41.053Z"
   },
   {
    "duration": 43,
    "start_time": "2023-03-06T13:15:50.491Z"
   },
   {
    "duration": 107,
    "start_time": "2023-03-06T13:17:05.299Z"
   },
   {
    "duration": 19,
    "start_time": "2023-03-06T13:17:12.946Z"
   },
   {
    "duration": 15,
    "start_time": "2023-03-06T13:17:17.384Z"
   },
   {
    "duration": 18,
    "start_time": "2023-03-06T13:17:21.921Z"
   },
   {
    "duration": 79,
    "start_time": "2023-03-06T13:19:49.388Z"
   },
   {
    "duration": 58,
    "start_time": "2023-03-06T13:19:53.488Z"
   },
   {
    "duration": 65,
    "start_time": "2023-03-06T13:19:56.325Z"
   },
   {
    "duration": 32,
    "start_time": "2023-03-06T13:20:06.009Z"
   },
   {
    "duration": 28,
    "start_time": "2023-03-06T13:20:54.839Z"
   },
   {
    "duration": 30,
    "start_time": "2023-03-06T13:21:01.406Z"
   },
   {
    "duration": 36,
    "start_time": "2023-03-06T13:22:31.096Z"
   },
   {
    "duration": 36,
    "start_time": "2023-03-06T13:22:44.291Z"
   },
   {
    "duration": 131,
    "start_time": "2023-03-06T13:24:30.685Z"
   },
   {
    "duration": 49,
    "start_time": "2023-03-06T13:24:43.407Z"
   },
   {
    "duration": 27,
    "start_time": "2023-03-06T13:26:13.114Z"
   },
   {
    "duration": 53,
    "start_time": "2023-03-06T13:26:22.651Z"
   },
   {
    "duration": 98,
    "start_time": "2023-03-06T13:33:29.582Z"
   },
   {
    "duration": 40,
    "start_time": "2023-03-06T13:38:46.589Z"
   },
   {
    "duration": 24,
    "start_time": "2023-03-06T13:38:52.746Z"
   },
   {
    "duration": 128585,
    "start_time": "2023-03-06T13:49:29.927Z"
   },
   {
    "duration": 0,
    "start_time": "2023-03-06T13:51:38.518Z"
   },
   {
    "duration": 119,
    "start_time": "2023-03-06T13:52:19.008Z"
   },
   {
    "duration": 20,
    "start_time": "2023-03-06T13:54:56.720Z"
   },
   {
    "duration": 16,
    "start_time": "2023-03-06T13:55:21.899Z"
   },
   {
    "duration": 21,
    "start_time": "2023-03-06T13:55:26.114Z"
   },
   {
    "duration": 29,
    "start_time": "2023-03-06T13:55:44.821Z"
   },
   {
    "duration": 51,
    "start_time": "2023-03-06T13:56:14.035Z"
   },
   {
    "duration": 500,
    "start_time": "2023-03-06T13:56:40.833Z"
   },
   {
    "duration": 53,
    "start_time": "2023-03-06T13:56:54.850Z"
   },
   {
    "duration": 51,
    "start_time": "2023-03-06T13:57:56.425Z"
   },
   {
    "duration": 35,
    "start_time": "2023-03-06T13:58:50.013Z"
   },
   {
    "duration": 35,
    "start_time": "2023-03-06T13:59:10.791Z"
   },
   {
    "duration": 47,
    "start_time": "2023-03-06T13:59:14.447Z"
   },
   {
    "duration": 39,
    "start_time": "2023-03-06T13:59:17.784Z"
   },
   {
    "duration": 17,
    "start_time": "2023-03-06T14:03:04.432Z"
   },
   {
    "duration": 14,
    "start_time": "2023-03-06T14:03:25.883Z"
   },
   {
    "duration": 3961,
    "start_time": "2023-03-06T14:09:28.585Z"
   },
   {
    "duration": 32,
    "start_time": "2023-03-06T14:09:40.374Z"
   },
   {
    "duration": 25,
    "start_time": "2023-03-06T14:11:20.615Z"
   },
   {
    "duration": 22,
    "start_time": "2023-03-06T14:11:23.280Z"
   },
   {
    "duration": 31,
    "start_time": "2023-03-06T14:11:26.572Z"
   },
   {
    "duration": 108,
    "start_time": "2023-03-06T14:11:30.084Z"
   },
   {
    "duration": 29,
    "start_time": "2023-03-06T14:11:40.675Z"
   },
   {
    "duration": 60,
    "start_time": "2023-03-06T14:12:48.682Z"
   },
   {
    "duration": 382,
    "start_time": "2023-03-06T19:37:48.939Z"
   },
   {
    "duration": 1057,
    "start_time": "2023-03-06T19:37:49.416Z"
   },
   {
    "duration": 40,
    "start_time": "2023-03-06T19:37:50.476Z"
   },
   {
    "duration": 27,
    "start_time": "2023-03-06T19:37:53.681Z"
   },
   {
    "duration": 20,
    "start_time": "2023-03-06T19:37:56.815Z"
   },
   {
    "duration": 103,
    "start_time": "2023-03-06T19:37:59.532Z"
   },
   {
    "duration": 53,
    "start_time": "2023-03-06T19:37:59.932Z"
   },
   {
    "duration": 10,
    "start_time": "2023-03-06T19:42:55.446Z"
   },
   {
    "duration": 11,
    "start_time": "2023-03-06T19:43:04.511Z"
   },
   {
    "duration": 8,
    "start_time": "2023-03-06T19:43:14.917Z"
   },
   {
    "duration": 12,
    "start_time": "2023-03-06T19:43:18.586Z"
   },
   {
    "duration": 973,
    "start_time": "2023-03-06T19:47:17.382Z"
   },
   {
    "duration": 493,
    "start_time": "2023-03-06T19:51:28.720Z"
   },
   {
    "duration": 229,
    "start_time": "2023-03-06T19:51:48.733Z"
   },
   {
    "duration": 202,
    "start_time": "2023-03-06T19:51:58.021Z"
   },
   {
    "duration": 187,
    "start_time": "2023-03-06T19:52:03.171Z"
   },
   {
    "duration": 215,
    "start_time": "2023-03-06T19:52:06.260Z"
   },
   {
    "duration": 384,
    "start_time": "2023-03-06T19:53:21.041Z"
   },
   {
    "duration": 543,
    "start_time": "2023-03-06T19:57:11.522Z"
   },
   {
    "duration": 660,
    "start_time": "2023-03-06T19:57:51.212Z"
   },
   {
    "duration": 588,
    "start_time": "2023-03-06T19:58:21.210Z"
   },
   {
    "duration": 506,
    "start_time": "2023-03-06T19:58:27.906Z"
   },
   {
    "duration": 526,
    "start_time": "2023-03-06T19:58:59.714Z"
   },
   {
    "duration": 634,
    "start_time": "2023-03-06T19:59:06.217Z"
   },
   {
    "duration": 644,
    "start_time": "2023-03-06T19:59:10.115Z"
   },
   {
    "duration": 572,
    "start_time": "2023-03-06T19:59:15.606Z"
   },
   {
    "duration": 566,
    "start_time": "2023-03-06T20:00:53.123Z"
   },
   {
    "duration": 628,
    "start_time": "2023-03-06T20:04:01.288Z"
   },
   {
    "duration": 425,
    "start_time": "2023-03-06T20:05:06.986Z"
   },
   {
    "duration": 559,
    "start_time": "2023-03-06T20:08:45.783Z"
   },
   {
    "duration": 102,
    "start_time": "2023-03-06T20:09:11.480Z"
   },
   {
    "duration": 24,
    "start_time": "2023-03-06T20:09:19.683Z"
   },
   {
    "duration": 255,
    "start_time": "2023-03-06T20:12:11.301Z"
   },
   {
    "duration": 3,
    "start_time": "2023-03-06T20:12:58.228Z"
   },
   {
    "duration": 355,
    "start_time": "2023-03-06T20:13:03.629Z"
   },
   {
    "duration": 627,
    "start_time": "2023-03-06T20:13:16.178Z"
   },
   {
    "duration": 690,
    "start_time": "2023-03-06T20:13:36.232Z"
   },
   {
    "duration": 574,
    "start_time": "2023-03-06T20:15:40.575Z"
   },
   {
    "duration": 1678,
    "start_time": "2023-03-06T20:17:55.687Z"
   },
   {
    "duration": 273,
    "start_time": "2023-03-06T20:18:09.263Z"
   },
   {
    "duration": 546,
    "start_time": "2023-03-06T20:18:48.687Z"
   },
   {
    "duration": 433,
    "start_time": "2023-03-06T20:18:55.081Z"
   },
   {
    "duration": 1693,
    "start_time": "2023-03-06T20:19:10.767Z"
   },
   {
    "duration": 265,
    "start_time": "2023-03-06T20:19:27.017Z"
   },
   {
    "duration": 476,
    "start_time": "2023-03-06T20:20:08.679Z"
   },
   {
    "duration": 1082,
    "start_time": "2023-03-06T20:21:05.118Z"
   },
   {
    "duration": 289,
    "start_time": "2023-03-06T20:21:32.436Z"
   },
   {
    "duration": 107,
    "start_time": "2023-03-06T20:23:15.940Z"
   },
   {
    "duration": 428,
    "start_time": "2023-03-06T20:23:27.776Z"
   },
   {
    "duration": 596,
    "start_time": "2023-03-06T20:24:43.023Z"
   },
   {
    "duration": 43,
    "start_time": "2023-03-06T20:25:56.018Z"
   },
   {
    "duration": 610,
    "start_time": "2023-03-06T20:30:13.517Z"
   },
   {
    "duration": 623,
    "start_time": "2023-03-06T20:31:00.822Z"
   },
   {
    "duration": 45,
    "start_time": "2023-03-06T20:34:25.685Z"
   },
   {
    "duration": 36,
    "start_time": "2023-03-06T20:34:32.914Z"
   },
   {
    "duration": 36,
    "start_time": "2023-03-06T20:34:40.011Z"
   },
   {
    "duration": 552,
    "start_time": "2023-03-06T20:39:37.276Z"
   },
   {
    "duration": 566317,
    "start_time": "2023-03-06T20:51:41.610Z"
   },
   {
    "duration": 545,
    "start_time": "2023-03-06T21:01:27.337Z"
   },
   {
    "duration": 722,
    "start_time": "2023-03-06T21:02:02.677Z"
   },
   {
    "duration": 588,
    "start_time": "2023-03-06T21:02:20.928Z"
   },
   {
    "duration": 640,
    "start_time": "2023-03-06T21:02:26.219Z"
   },
   {
    "duration": 762,
    "start_time": "2023-03-06T21:02:30.422Z"
   },
   {
    "duration": 653,
    "start_time": "2023-03-06T21:02:35.828Z"
   },
   {
    "duration": 780,
    "start_time": "2023-03-06T21:02:53.855Z"
   },
   {
    "duration": 670,
    "start_time": "2023-03-06T21:03:54.225Z"
   },
   {
    "duration": 616,
    "start_time": "2023-03-06T21:04:29.335Z"
   },
   {
    "duration": 658,
    "start_time": "2023-03-06T21:05:18.371Z"
   },
   {
    "duration": 516,
    "start_time": "2023-03-06T21:05:33.821Z"
   },
   {
    "duration": 4,
    "start_time": "2023-03-06T21:09:42.559Z"
   },
   {
    "duration": 510,
    "start_time": "2023-03-06T21:10:07.951Z"
   },
   {
    "duration": 5,
    "start_time": "2023-03-06T21:10:43.025Z"
   },
   {
    "duration": 508,
    "start_time": "2023-03-06T21:10:45.771Z"
   },
   {
    "duration": 77,
    "start_time": "2023-03-06T21:11:10.923Z"
   },
   {
    "duration": 4,
    "start_time": "2023-03-06T21:11:17.256Z"
   },
   {
    "duration": 631,
    "start_time": "2023-03-06T21:11:22.405Z"
   },
   {
    "duration": 9,
    "start_time": "2023-03-06T21:11:51.553Z"
   },
   {
    "duration": 469,
    "start_time": "2023-03-06T21:11:59.418Z"
   },
   {
    "duration": 5,
    "start_time": "2023-03-06T21:12:22.554Z"
   },
   {
    "duration": 310,
    "start_time": "2023-03-06T21:12:27.621Z"
   },
   {
    "duration": 5,
    "start_time": "2023-03-06T21:12:58.555Z"
   },
   {
    "duration": 483,
    "start_time": "2023-03-06T21:13:01.446Z"
   },
   {
    "duration": 640,
    "start_time": "2023-03-06T21:13:35.608Z"
   },
   {
    "duration": 5,
    "start_time": "2023-03-06T21:13:59.588Z"
   },
   {
    "duration": 491,
    "start_time": "2023-03-06T21:14:00.012Z"
   },
   {
    "duration": 533,
    "start_time": "2023-03-06T21:14:13.416Z"
   },
   {
    "duration": 505,
    "start_time": "2023-03-06T21:14:33.608Z"
   },
   {
    "duration": 4,
    "start_time": "2023-03-06T21:15:13.021Z"
   },
   {
    "duration": 612,
    "start_time": "2023-03-06T21:15:13.508Z"
   },
   {
    "duration": 446,
    "start_time": "2023-03-06T21:15:17.176Z"
   },
   {
    "duration": 457,
    "start_time": "2023-03-06T21:15:20.423Z"
   },
   {
    "duration": 6,
    "start_time": "2023-03-06T21:15:51.301Z"
   },
   {
    "duration": 436,
    "start_time": "2023-03-06T21:15:51.746Z"
   },
   {
    "duration": 616,
    "start_time": "2023-03-06T21:15:54.141Z"
   },
   {
    "duration": 408,
    "start_time": "2023-03-06T21:15:55.409Z"
   },
   {
    "duration": 4,
    "start_time": "2023-03-06T21:16:23.436Z"
   },
   {
    "duration": 457,
    "start_time": "2023-03-06T21:16:25.543Z"
   },
   {
    "duration": 8,
    "start_time": "2023-03-06T21:17:38.933Z"
   },
   {
    "duration": 5,
    "start_time": "2023-03-06T21:17:45.021Z"
   },
   {
    "duration": 496,
    "start_time": "2023-03-06T21:17:54.529Z"
   },
   {
    "duration": 603,
    "start_time": "2023-03-06T21:18:06.518Z"
   },
   {
    "duration": 532,
    "start_time": "2023-03-06T21:18:12.029Z"
   },
   {
    "duration": 507,
    "start_time": "2023-03-06T21:18:17.310Z"
   },
   {
    "duration": 774,
    "start_time": "2023-03-06T21:18:24.806Z"
   },
   {
    "duration": 622,
    "start_time": "2023-03-06T21:18:34.906Z"
   },
   {
    "duration": 666,
    "start_time": "2023-03-06T21:18:46.341Z"
   },
   {
    "duration": 451,
    "start_time": "2023-03-06T21:19:14.966Z"
   },
   {
    "duration": 648,
    "start_time": "2023-03-06T21:19:23.169Z"
   },
   {
    "duration": 439,
    "start_time": "2023-03-06T21:19:31.775Z"
   },
   {
    "duration": 461,
    "start_time": "2023-03-06T21:19:35.522Z"
   },
   {
    "duration": 644,
    "start_time": "2023-03-06T21:19:40.951Z"
   },
   {
    "duration": 445,
    "start_time": "2023-03-06T21:19:58.123Z"
   },
   {
    "duration": 524,
    "start_time": "2023-03-06T21:20:08.295Z"
   },
   {
    "duration": 471,
    "start_time": "2023-03-06T21:20:18.361Z"
   },
   {
    "duration": 775,
    "start_time": "2023-03-06T21:20:45.223Z"
   },
   {
    "duration": 482,
    "start_time": "2023-03-06T21:20:58.007Z"
   },
   {
    "duration": 4,
    "start_time": "2023-03-06T21:27:52.650Z"
   },
   {
    "duration": 495,
    "start_time": "2023-03-06T21:28:24.060Z"
   },
   {
    "duration": 484,
    "start_time": "2023-03-06T21:28:39.713Z"
   },
   {
    "duration": 480,
    "start_time": "2023-03-06T21:28:52.710Z"
   },
   {
    "duration": 713,
    "start_time": "2023-03-06T21:29:22.507Z"
   },
   {
    "duration": 526,
    "start_time": "2023-03-06T21:29:28.323Z"
   },
   {
    "duration": 503,
    "start_time": "2023-03-06T21:29:37.252Z"
   },
   {
    "duration": 14,
    "start_time": "2023-03-06T21:31:19.914Z"
   },
   {
    "duration": 15,
    "start_time": "2023-03-06T21:31:52.477Z"
   },
   {
    "duration": 14,
    "start_time": "2023-03-06T21:31:58.117Z"
   },
   {
    "duration": 1408,
    "start_time": "2023-03-07T12:58:44.081Z"
   },
   {
    "duration": 2358,
    "start_time": "2023-03-07T12:58:45.491Z"
   },
   {
    "duration": 34,
    "start_time": "2023-03-07T12:59:17.715Z"
   },
   {
    "duration": 22,
    "start_time": "2023-03-07T12:59:19.988Z"
   },
   {
    "duration": 21,
    "start_time": "2023-03-07T12:59:20.888Z"
   },
   {
    "duration": 111,
    "start_time": "2023-03-07T12:59:23.661Z"
   },
   {
    "duration": 61,
    "start_time": "2023-03-07T12:59:24.052Z"
   },
   {
    "duration": 13,
    "start_time": "2023-03-07T12:59:42.384Z"
   },
   {
    "duration": 4,
    "start_time": "2023-03-07T12:59:47.949Z"
   },
   {
    "duration": 614,
    "start_time": "2023-03-07T12:59:49.644Z"
   },
   {
    "duration": 590,
    "start_time": "2023-03-07T12:59:52.011Z"
   },
   {
    "duration": 658,
    "start_time": "2023-03-07T12:59:57.073Z"
   },
   {
    "duration": 18,
    "start_time": "2023-03-07T13:01:01.530Z"
   },
   {
    "duration": 831,
    "start_time": "2023-03-07T13:01:02.201Z"
   },
   {
    "duration": 564,
    "start_time": "2023-03-07T13:01:04.599Z"
   },
   {
    "duration": 733,
    "start_time": "2023-03-07T13:01:07.022Z"
   },
   {
    "duration": 17,
    "start_time": "2023-03-07T13:10:23.780Z"
   },
   {
    "duration": 24,
    "start_time": "2023-03-07T13:10:26.621Z"
   },
   {
    "duration": 20,
    "start_time": "2023-03-07T13:10:28.842Z"
   },
   {
    "duration": 7,
    "start_time": "2023-03-07T13:41:19.924Z"
   },
   {
    "duration": 6,
    "start_time": "2023-03-07T13:41:52.348Z"
   },
   {
    "duration": 9,
    "start_time": "2023-03-07T13:41:59.355Z"
   },
   {
    "duration": 10,
    "start_time": "2023-03-07T13:44:29.541Z"
   },
   {
    "duration": 5,
    "start_time": "2023-03-07T13:44:29.899Z"
   },
   {
    "duration": 14,
    "start_time": "2023-03-07T13:44:30.226Z"
   },
   {
    "duration": 114,
    "start_time": "2023-03-07T13:48:07.885Z"
   },
   {
    "duration": 419,
    "start_time": "2023-03-07T13:48:34.888Z"
   },
   {
    "duration": 24,
    "start_time": "2023-03-07T13:48:41.544Z"
   },
   {
    "duration": 28,
    "start_time": "2023-03-07T13:49:29.389Z"
   },
   {
    "duration": 3,
    "start_time": "2023-03-07T13:49:57.102Z"
   },
   {
    "duration": 473,
    "start_time": "2023-03-07T13:49:57.643Z"
   },
   {
    "duration": 27,
    "start_time": "2023-03-07T13:49:58.493Z"
   },
   {
    "duration": 29,
    "start_time": "2023-03-07T13:49:59.327Z"
   },
   {
    "duration": 23,
    "start_time": "2023-03-07T13:50:00.174Z"
   },
   {
    "duration": 108,
    "start_time": "2023-03-07T13:50:01.103Z"
   },
   {
    "duration": 76,
    "start_time": "2023-03-07T13:50:01.380Z"
   },
   {
    "duration": 15,
    "start_time": "2023-03-07T13:50:02.141Z"
   },
   {
    "duration": 4,
    "start_time": "2023-03-07T13:50:03.015Z"
   },
   {
    "duration": 636,
    "start_time": "2023-03-07T13:50:03.337Z"
   },
   {
    "duration": 724,
    "start_time": "2023-03-07T13:50:03.976Z"
   },
   {
    "duration": 643,
    "start_time": "2023-03-07T13:50:04.702Z"
   },
   {
    "duration": 5,
    "start_time": "2023-03-07T13:50:08.458Z"
   },
   {
    "duration": 827,
    "start_time": "2023-03-07T13:50:08.891Z"
   },
   {
    "duration": 735,
    "start_time": "2023-03-07T13:50:11.341Z"
   },
   {
    "duration": 846,
    "start_time": "2023-03-07T13:50:13.791Z"
   },
   {
    "duration": 19,
    "start_time": "2023-03-07T13:50:17.296Z"
   },
   {
    "duration": 25,
    "start_time": "2023-03-07T13:50:19.108Z"
   },
   {
    "duration": 27,
    "start_time": "2023-03-07T13:50:19.623Z"
   },
   {
    "duration": 5,
    "start_time": "2023-03-07T13:50:24.611Z"
   },
   {
    "duration": 7,
    "start_time": "2023-03-07T13:50:27.884Z"
   },
   {
    "duration": 6,
    "start_time": "2023-03-07T13:50:28.299Z"
   },
   {
    "duration": 40,
    "start_time": "2023-03-07T13:50:32.897Z"
   },
   {
    "duration": 14,
    "start_time": "2023-03-07T13:50:42.280Z"
   },
   {
    "duration": 4,
    "start_time": "2023-03-07T13:51:21.838Z"
   },
   {
    "duration": 5,
    "start_time": "2023-03-07T13:51:40.404Z"
   },
   {
    "duration": 44,
    "start_time": "2023-03-07T13:51:59.004Z"
   },
   {
    "duration": 15,
    "start_time": "2023-03-07T13:52:42.296Z"
   },
   {
    "duration": 16,
    "start_time": "2023-03-07T13:53:25.114Z"
   },
   {
    "duration": 14,
    "start_time": "2023-03-07T13:53:36.074Z"
   },
   {
    "duration": 14,
    "start_time": "2023-03-07T13:54:27.589Z"
   },
   {
    "duration": 25,
    "start_time": "2023-03-07T13:55:21.119Z"
   },
   {
    "duration": 7,
    "start_time": "2023-03-07T14:11:15.789Z"
   },
   {
    "duration": 15,
    "start_time": "2023-03-07T14:12:36.921Z"
   },
   {
    "duration": 12,
    "start_time": "2023-03-07T14:12:52.900Z"
   },
   {
    "duration": 4,
    "start_time": "2023-03-07T14:13:15.037Z"
   },
   {
    "duration": 3,
    "start_time": "2023-03-07T14:13:26.183Z"
   },
   {
    "duration": 23,
    "start_time": "2023-03-07T14:13:27.414Z"
   },
   {
    "duration": 19,
    "start_time": "2023-03-07T14:13:39.169Z"
   },
   {
    "duration": 21,
    "start_time": "2023-03-07T14:14:17.774Z"
   },
   {
    "duration": 24,
    "start_time": "2023-03-07T14:14:44.012Z"
   },
   {
    "duration": 15,
    "start_time": "2023-03-07T14:16:06.824Z"
   },
   {
    "duration": 1695,
    "start_time": "2023-03-07T19:15:45.525Z"
   },
   {
    "duration": 2675,
    "start_time": "2023-03-07T19:15:47.222Z"
   },
   {
    "duration": 23,
    "start_time": "2023-03-07T19:15:51.610Z"
   },
   {
    "duration": 19,
    "start_time": "2023-03-07T19:15:54.820Z"
   },
   {
    "duration": 18,
    "start_time": "2023-03-07T19:15:56.215Z"
   },
   {
    "duration": 97,
    "start_time": "2023-03-07T19:15:59.423Z"
   },
   {
    "duration": 55,
    "start_time": "2023-03-07T19:15:59.874Z"
   },
   {
    "duration": 11,
    "start_time": "2023-03-07T19:16:00.719Z"
   },
   {
    "duration": 13,
    "start_time": "2023-03-07T19:16:01.660Z"
   },
   {
    "duration": 556,
    "start_time": "2023-03-07T19:16:03.795Z"
   },
   {
    "duration": 572,
    "start_time": "2023-03-07T19:16:04.360Z"
   },
   {
    "duration": 665,
    "start_time": "2023-03-07T19:16:04.934Z"
   },
   {
    "duration": 8,
    "start_time": "2023-03-07T19:16:08.672Z"
   },
   {
    "duration": 737,
    "start_time": "2023-03-07T19:16:09.229Z"
   },
   {
    "duration": 697,
    "start_time": "2023-03-07T19:16:19.805Z"
   },
   {
    "duration": 15,
    "start_time": "2023-03-07T19:16:24.107Z"
   },
   {
    "duration": 26,
    "start_time": "2023-03-07T19:16:26.166Z"
   },
   {
    "duration": 14,
    "start_time": "2023-03-07T19:16:27.307Z"
   },
   {
    "duration": 13,
    "start_time": "2023-03-07T19:16:32.667Z"
   },
   {
    "duration": 6,
    "start_time": "2023-03-07T19:16:33.094Z"
   },
   {
    "duration": 6,
    "start_time": "2023-03-07T19:16:35.086Z"
   },
   {
    "duration": 21,
    "start_time": "2023-03-07T19:16:35.969Z"
   },
   {
    "duration": 14,
    "start_time": "2023-03-07T19:16:36.616Z"
   },
   {
    "duration": 14,
    "start_time": "2023-03-07T19:16:38.891Z"
   },
   {
    "duration": 3,
    "start_time": "2023-03-07T19:16:40.212Z"
   },
   {
    "duration": 30,
    "start_time": "2023-03-07T19:16:42.941Z"
   },
   {
    "duration": 22,
    "start_time": "2023-03-07T19:16:43.466Z"
   },
   {
    "duration": 22,
    "start_time": "2023-03-07T19:16:43.880Z"
   },
   {
    "duration": 28,
    "start_time": "2023-03-07T19:22:34.530Z"
   },
   {
    "duration": 10,
    "start_time": "2023-03-07T19:28:05.718Z"
   },
   {
    "duration": 26,
    "start_time": "2023-03-07T19:29:16.071Z"
   },
   {
    "duration": 12,
    "start_time": "2023-03-07T19:30:05.188Z"
   },
   {
    "duration": 17,
    "start_time": "2023-03-07T19:30:38.186Z"
   },
   {
    "duration": 21,
    "start_time": "2023-03-07T19:35:35.515Z"
   },
   {
    "duration": 13,
    "start_time": "2023-03-07T19:35:48.719Z"
   },
   {
    "duration": 25,
    "start_time": "2023-03-07T19:36:20.278Z"
   },
   {
    "duration": 22,
    "start_time": "2023-03-07T19:36:45.207Z"
   },
   {
    "duration": 73,
    "start_time": "2023-03-07T19:36:56.430Z"
   },
   {
    "duration": 5,
    "start_time": "2023-03-07T19:43:07.720Z"
   },
   {
    "duration": 4,
    "start_time": "2023-03-07T19:43:32.927Z"
   },
   {
    "duration": 5,
    "start_time": "2023-03-07T19:43:51.877Z"
   },
   {
    "duration": 5,
    "start_time": "2023-03-07T19:44:11.379Z"
   },
   {
    "duration": 14,
    "start_time": "2023-03-07T19:44:12.521Z"
   },
   {
    "duration": 4,
    "start_time": "2023-03-07T19:44:12.921Z"
   },
   {
    "duration": 12,
    "start_time": "2023-03-07T20:02:07.997Z"
   },
   {
    "duration": 116,
    "start_time": "2023-03-07T20:52:39.361Z"
   },
   {
    "duration": 3,
    "start_time": "2023-03-07T20:52:44.754Z"
   },
   {
    "duration": 6,
    "start_time": "2023-03-07T20:52:45.146Z"
   },
   {
    "duration": 4,
    "start_time": "2023-03-07T21:27:39.551Z"
   },
   {
    "duration": 2,
    "start_time": "2023-03-07T21:27:44.839Z"
   },
   {
    "duration": 4,
    "start_time": "2023-03-07T21:27:45.220Z"
   },
   {
    "duration": 1698,
    "start_time": "2023-03-08T11:13:18.237Z"
   },
   {
    "duration": 810,
    "start_time": "2023-03-08T11:13:19.938Z"
   },
   {
    "duration": 28,
    "start_time": "2023-03-08T11:13:21.401Z"
   },
   {
    "duration": 29,
    "start_time": "2023-03-08T11:13:24.149Z"
   },
   {
    "duration": 29,
    "start_time": "2023-03-08T11:13:26.698Z"
   },
   {
    "duration": 94,
    "start_time": "2023-03-08T11:13:27.516Z"
   },
   {
    "duration": 65,
    "start_time": "2023-03-08T11:13:29.534Z"
   },
   {
    "duration": 12,
    "start_time": "2023-03-08T11:13:30.354Z"
   },
   {
    "duration": 5,
    "start_time": "2023-03-08T11:13:31.075Z"
   },
   {
    "duration": 580,
    "start_time": "2023-03-08T11:13:33.135Z"
   },
   {
    "duration": 615,
    "start_time": "2023-03-08T11:13:33.717Z"
   },
   {
    "duration": 800,
    "start_time": "2023-03-08T11:13:34.335Z"
   },
   {
    "duration": 5,
    "start_time": "2023-03-08T11:13:37.122Z"
   },
   {
    "duration": 704,
    "start_time": "2023-03-08T11:13:37.506Z"
   },
   {
    "duration": 561,
    "start_time": "2023-03-08T11:13:39.780Z"
   },
   {
    "duration": 810,
    "start_time": "2023-03-08T11:13:40.343Z"
   },
   {
    "duration": 19,
    "start_time": "2023-03-08T11:13:43.617Z"
   },
   {
    "duration": 24,
    "start_time": "2023-03-08T11:13:45.953Z"
   },
   {
    "duration": 16,
    "start_time": "2023-03-08T11:13:46.360Z"
   },
   {
    "duration": 4,
    "start_time": "2023-03-08T11:13:50.935Z"
   },
   {
    "duration": 7,
    "start_time": "2023-03-08T11:13:51.306Z"
   },
   {
    "duration": 7,
    "start_time": "2023-03-08T11:13:51.654Z"
   },
   {
    "duration": 20,
    "start_time": "2023-03-08T11:13:52.495Z"
   },
   {
    "duration": 20,
    "start_time": "2023-03-08T11:13:54.776Z"
   },
   {
    "duration": 19,
    "start_time": "2023-03-08T11:13:55.564Z"
   },
   {
    "duration": 6,
    "start_time": "2023-03-08T11:13:56.461Z"
   },
   {
    "duration": 30,
    "start_time": "2023-03-08T11:13:58.482Z"
   },
   {
    "duration": 25,
    "start_time": "2023-03-08T11:13:58.875Z"
   },
   {
    "duration": 26,
    "start_time": "2023-03-08T11:13:59.214Z"
   },
   {
    "duration": 114,
    "start_time": "2023-03-08T11:13:59.974Z"
   },
   {
    "duration": 21,
    "start_time": "2023-03-08T11:14:16.877Z"
   },
   {
    "duration": 6,
    "start_time": "2023-03-08T11:14:17.806Z"
   },
   {
    "duration": 15,
    "start_time": "2023-03-08T11:14:20.619Z"
   },
   {
    "duration": 5,
    "start_time": "2023-03-08T11:14:20.989Z"
   },
   {
    "duration": 16,
    "start_time": "2023-03-08T11:14:23.168Z"
   },
   {
    "duration": 5,
    "start_time": "2023-03-08T11:14:23.530Z"
   },
   {
    "duration": 17,
    "start_time": "2023-03-08T11:14:24.271Z"
   },
   {
    "duration": 3,
    "start_time": "2023-03-08T11:14:27.553Z"
   },
   {
    "duration": 4,
    "start_time": "2023-03-08T11:14:27.929Z"
   },
   {
    "duration": 6,
    "start_time": "2023-03-08T11:16:54.710Z"
   },
   {
    "duration": 7,
    "start_time": "2023-03-08T11:29:11.709Z"
   },
   {
    "duration": 8,
    "start_time": "2023-03-08T11:33:27.329Z"
   },
   {
    "duration": 5,
    "start_time": "2023-03-08T11:34:52.061Z"
   },
   {
    "duration": 25,
    "start_time": "2023-03-08T11:35:01.415Z"
   },
   {
    "duration": 12,
    "start_time": "2023-03-08T11:35:04.922Z"
   },
   {
    "duration": 8,
    "start_time": "2023-03-08T11:35:16.509Z"
   },
   {
    "duration": 6,
    "start_time": "2023-03-08T11:44:56.079Z"
   },
   {
    "duration": 17,
    "start_time": "2023-03-08T11:45:27.951Z"
   },
   {
    "duration": 3,
    "start_time": "2023-03-08T11:46:31.554Z"
   },
   {
    "duration": 13,
    "start_time": "2023-03-08T11:46:32.662Z"
   },
   {
    "duration": 11,
    "start_time": "2023-03-08T11:48:02.950Z"
   },
   {
    "duration": 12,
    "start_time": "2023-03-08T11:48:11.823Z"
   },
   {
    "duration": 11,
    "start_time": "2023-03-08T11:50:07.948Z"
   },
   {
    "duration": 7,
    "start_time": "2023-03-08T11:50:20.725Z"
   },
   {
    "duration": 20,
    "start_time": "2023-03-08T11:51:22.862Z"
   },
   {
    "duration": 12,
    "start_time": "2023-03-08T11:51:29.968Z"
   },
   {
    "duration": 5,
    "start_time": "2023-03-08T11:51:46.009Z"
   },
   {
    "duration": 11,
    "start_time": "2023-03-08T11:51:47.580Z"
   },
   {
    "duration": 4,
    "start_time": "2023-03-08T11:51:54.535Z"
   },
   {
    "duration": 12,
    "start_time": "2023-03-08T11:51:55.478Z"
   },
   {
    "duration": 3,
    "start_time": "2023-03-08T11:54:41.195Z"
   },
   {
    "duration": 12,
    "start_time": "2023-03-08T11:54:41.649Z"
   },
   {
    "duration": 10,
    "start_time": "2023-03-08T11:54:48.691Z"
   },
   {
    "duration": 10,
    "start_time": "2023-03-08T11:54:49.791Z"
   },
   {
    "duration": 4,
    "start_time": "2023-03-08T12:03:17.891Z"
   },
   {
    "duration": 12,
    "start_time": "2023-03-08T12:03:18.278Z"
   },
   {
    "duration": 5,
    "start_time": "2023-03-08T12:03:30.318Z"
   },
   {
    "duration": 12,
    "start_time": "2023-03-08T12:03:31.534Z"
   },
   {
    "duration": 528,
    "start_time": "2023-03-08T12:04:31.020Z"
   },
   {
    "duration": 24,
    "start_time": "2023-03-08T12:04:31.770Z"
   },
   {
    "duration": 27,
    "start_time": "2023-03-08T12:04:34.226Z"
   },
   {
    "duration": 22,
    "start_time": "2023-03-08T12:04:34.984Z"
   },
   {
    "duration": 95,
    "start_time": "2023-03-08T12:04:35.734Z"
   },
   {
    "duration": 62,
    "start_time": "2023-03-08T12:04:36.091Z"
   },
   {
    "duration": 12,
    "start_time": "2023-03-08T12:04:36.852Z"
   },
   {
    "duration": 4,
    "start_time": "2023-03-08T12:04:37.582Z"
   },
   {
    "duration": 559,
    "start_time": "2023-03-08T12:04:37.937Z"
   },
   {
    "duration": 551,
    "start_time": "2023-03-08T12:04:38.498Z"
   },
   {
    "duration": 570,
    "start_time": "2023-03-08T12:04:39.051Z"
   },
   {
    "duration": 6,
    "start_time": "2023-03-08T12:04:39.740Z"
   },
   {
    "duration": 671,
    "start_time": "2023-03-08T12:04:40.094Z"
   },
   {
    "duration": 634,
    "start_time": "2023-03-08T12:04:40.768Z"
   },
   {
    "duration": 677,
    "start_time": "2023-03-08T12:04:41.404Z"
   },
   {
    "duration": 16,
    "start_time": "2023-03-08T12:04:42.083Z"
   },
   {
    "duration": 15,
    "start_time": "2023-03-08T12:04:42.451Z"
   },
   {
    "duration": 16,
    "start_time": "2023-03-08T12:04:42.837Z"
   },
   {
    "duration": 5,
    "start_time": "2023-03-08T12:04:45.171Z"
   },
   {
    "duration": 5,
    "start_time": "2023-03-08T12:04:45.554Z"
   },
   {
    "duration": 10,
    "start_time": "2023-03-08T12:04:45.927Z"
   },
   {
    "duration": 17,
    "start_time": "2023-03-08T12:04:46.688Z"
   },
   {
    "duration": 15,
    "start_time": "2023-03-08T12:04:47.083Z"
   },
   {
    "duration": 16,
    "start_time": "2023-03-08T12:04:47.440Z"
   },
   {
    "duration": 3,
    "start_time": "2023-03-08T12:04:48.240Z"
   },
   {
    "duration": 22,
    "start_time": "2023-03-08T12:04:48.716Z"
   },
   {
    "duration": 21,
    "start_time": "2023-03-08T12:04:49.157Z"
   },
   {
    "duration": 17,
    "start_time": "2023-03-08T12:04:49.625Z"
   },
   {
    "duration": 16,
    "start_time": "2023-03-08T12:04:50.837Z"
   },
   {
    "duration": 5,
    "start_time": "2023-03-08T12:04:51.238Z"
   },
   {
    "duration": 14,
    "start_time": "2023-03-08T12:04:52.081Z"
   },
   {
    "duration": 5,
    "start_time": "2023-03-08T12:04:52.509Z"
   },
   {
    "duration": 16,
    "start_time": "2023-03-08T12:04:53.359Z"
   },
   {
    "duration": 5,
    "start_time": "2023-03-08T12:04:53.752Z"
   },
   {
    "duration": 16,
    "start_time": "2023-03-08T12:04:54.582Z"
   },
   {
    "duration": 5,
    "start_time": "2023-03-08T12:05:02.099Z"
   },
   {
    "duration": 5,
    "start_time": "2023-03-08T12:05:02.499Z"
   },
   {
    "duration": 4,
    "start_time": "2023-03-08T12:05:09.172Z"
   },
   {
    "duration": 1533,
    "start_time": "2023-03-09T07:49:08.576Z"
   },
   {
    "duration": 1512,
    "start_time": "2023-03-09T07:49:10.111Z"
   },
   {
    "duration": 27,
    "start_time": "2023-03-09T07:49:11.625Z"
   },
   {
    "duration": 19,
    "start_time": "2023-03-09T07:49:14.054Z"
   },
   {
    "duration": 21,
    "start_time": "2023-03-09T07:49:16.881Z"
   },
   {
    "duration": 79,
    "start_time": "2023-03-09T07:49:19.884Z"
   },
   {
    "duration": 54,
    "start_time": "2023-03-09T07:49:20.277Z"
   },
   {
    "duration": 16,
    "start_time": "2023-03-09T07:49:23.037Z"
   },
   {
    "duration": 3,
    "start_time": "2023-03-09T07:49:23.822Z"
   },
   {
    "duration": 496,
    "start_time": "2023-03-09T07:49:24.418Z"
   },
   {
    "duration": 502,
    "start_time": "2023-03-09T07:49:27.995Z"
   },
   {
    "duration": 555,
    "start_time": "2023-03-09T07:49:30.488Z"
   },
   {
    "duration": 5,
    "start_time": "2023-03-09T07:49:33.716Z"
   },
   {
    "duration": 753,
    "start_time": "2023-03-09T07:49:36.369Z"
   },
   {
    "duration": 448,
    "start_time": "2023-03-09T07:49:37.978Z"
   },
   {
    "duration": 646,
    "start_time": "2023-03-09T07:49:40.429Z"
   },
   {
    "duration": 17,
    "start_time": "2023-03-09T07:49:44.448Z"
   },
   {
    "duration": 15,
    "start_time": "2023-03-09T07:49:47.658Z"
   },
   {
    "duration": 15,
    "start_time": "2023-03-09T07:49:49.215Z"
   },
   {
    "duration": 4,
    "start_time": "2023-03-09T07:49:55.525Z"
   },
   {
    "duration": 5,
    "start_time": "2023-03-09T07:49:55.961Z"
   },
   {
    "duration": 5,
    "start_time": "2023-03-09T07:49:56.354Z"
   },
   {
    "duration": 13,
    "start_time": "2023-03-09T07:49:58.870Z"
   },
   {
    "duration": 13,
    "start_time": "2023-03-09T07:49:59.272Z"
   },
   {
    "duration": 14,
    "start_time": "2023-03-09T07:49:59.678Z"
   },
   {
    "duration": 3,
    "start_time": "2023-03-09T07:50:02.454Z"
   },
   {
    "duration": 22,
    "start_time": "2023-03-09T07:50:02.851Z"
   },
   {
    "duration": 20,
    "start_time": "2023-03-09T07:50:03.221Z"
   },
   {
    "duration": 16,
    "start_time": "2023-03-09T07:50:03.595Z"
   },
   {
    "duration": 13,
    "start_time": "2023-03-09T07:50:06.467Z"
   },
   {
    "duration": 4,
    "start_time": "2023-03-09T07:50:06.886Z"
   },
   {
    "duration": 12,
    "start_time": "2023-03-09T07:50:09.301Z"
   },
   {
    "duration": 3,
    "start_time": "2023-03-09T07:50:09.702Z"
   },
   {
    "duration": 11,
    "start_time": "2023-03-09T07:50:12.263Z"
   },
   {
    "duration": 4,
    "start_time": "2023-03-09T07:50:12.631Z"
   },
   {
    "duration": 10,
    "start_time": "2023-03-09T07:50:13.505Z"
   },
   {
    "duration": 6,
    "start_time": "2023-03-09T07:50:18.934Z"
   },
   {
    "duration": 3,
    "start_time": "2023-03-09T07:50:19.373Z"
   },
   {
    "duration": 4,
    "start_time": "2023-03-09T07:53:32.019Z"
   },
   {
    "duration": 119,
    "start_time": "2023-03-09T07:55:40.968Z"
   },
   {
    "duration": 4,
    "start_time": "2023-03-09T07:55:43.722Z"
   },
   {
    "duration": 14,
    "start_time": "2023-03-09T07:55:45.421Z"
   },
   {
    "duration": 5,
    "start_time": "2023-03-09T07:56:46.265Z"
   },
   {
    "duration": 16,
    "start_time": "2023-03-09T07:56:46.866Z"
   },
   {
    "duration": 8,
    "start_time": "2023-03-09T07:56:52.964Z"
   },
   {
    "duration": 4,
    "start_time": "2023-03-09T07:57:17.094Z"
   },
   {
    "duration": 11,
    "start_time": "2023-03-09T07:57:26.784Z"
   },
   {
    "duration": 9,
    "start_time": "2023-03-09T07:58:41.762Z"
   },
   {
    "duration": 10,
    "start_time": "2023-03-09T07:59:04.264Z"
   },
   {
    "duration": 10,
    "start_time": "2023-03-09T08:25:18.585Z"
   },
   {
    "duration": 11,
    "start_time": "2023-03-09T08:26:15.669Z"
   },
   {
    "duration": 15,
    "start_time": "2023-03-09T08:26:57.231Z"
   },
   {
    "duration": 24,
    "start_time": "2023-03-09T08:27:14.021Z"
   },
   {
    "duration": 805,
    "start_time": "2023-03-09T08:37:55.293Z"
   },
   {
    "duration": 4,
    "start_time": "2023-03-09T08:40:55.627Z"
   },
   {
    "duration": 12,
    "start_time": "2023-03-09T08:40:58.520Z"
   },
   {
    "duration": 4,
    "start_time": "2023-03-09T08:41:09.887Z"
   },
   {
    "duration": 7,
    "start_time": "2023-03-09T08:41:10.407Z"
   },
   {
    "duration": 15,
    "start_time": "2023-03-09T08:41:52.925Z"
   },
   {
    "duration": 8,
    "start_time": "2023-03-09T08:42:15.196Z"
   },
   {
    "duration": 125,
    "start_time": "2023-03-09T08:42:34.550Z"
   },
   {
    "duration": 8,
    "start_time": "2023-03-09T08:43:01.343Z"
   },
   {
    "duration": 14,
    "start_time": "2023-03-09T08:43:04.835Z"
   },
   {
    "duration": 753,
    "start_time": "2023-03-09T08:53:33.486Z"
   },
   {
    "duration": 9,
    "start_time": "2023-03-09T08:54:06.927Z"
   },
   {
    "duration": 3,
    "start_time": "2023-03-09T08:54:23.335Z"
   },
   {
    "duration": 5,
    "start_time": "2023-03-09T08:54:30.071Z"
   },
   {
    "duration": 9,
    "start_time": "2023-03-09T08:58:09.624Z"
   },
   {
    "duration": 755,
    "start_time": "2023-03-09T08:58:44.161Z"
   },
   {
    "duration": 4,
    "start_time": "2023-03-09T08:58:52.516Z"
   },
   {
    "duration": 5,
    "start_time": "2023-03-09T08:58:56.159Z"
   },
   {
    "duration": 6,
    "start_time": "2023-03-09T08:59:11.778Z"
   },
   {
    "duration": 104,
    "start_time": "2023-03-09T09:03:47.608Z"
   },
   {
    "duration": 5,
    "start_time": "2023-03-09T09:03:52.370Z"
   },
   {
    "duration": 4,
    "start_time": "2023-03-09T09:03:56.254Z"
   },
   {
    "duration": 6,
    "start_time": "2023-03-09T09:04:52.319Z"
   },
   {
    "duration": 5,
    "start_time": "2023-03-09T09:04:52.709Z"
   },
   {
    "duration": 4,
    "start_time": "2023-03-09T09:05:15.306Z"
   },
   {
    "duration": 735,
    "start_time": "2023-03-09T09:08:20.078Z"
   },
   {
    "duration": 764,
    "start_time": "2023-03-09T09:08:32.082Z"
   },
   {
    "duration": 2,
    "start_time": "2023-03-09T09:20:38.310Z"
   },
   {
    "duration": 3,
    "start_time": "2023-03-09T09:22:27.507Z"
   },
   {
    "duration": 9,
    "start_time": "2023-03-09T09:22:32.948Z"
   },
   {
    "duration": 9,
    "start_time": "2023-03-09T09:22:38.906Z"
   },
   {
    "duration": 8,
    "start_time": "2023-03-09T09:22:43.388Z"
   },
   {
    "duration": 6,
    "start_time": "2023-03-09T09:24:10.978Z"
   },
   {
    "duration": 5,
    "start_time": "2023-03-09T09:24:17.291Z"
   },
   {
    "duration": 747,
    "start_time": "2023-03-09T09:25:05.845Z"
   },
   {
    "duration": 3,
    "start_time": "2023-03-09T09:25:09.318Z"
   },
   {
    "duration": 757,
    "start_time": "2023-03-09T09:25:52.199Z"
   },
   {
    "duration": 5,
    "start_time": "2023-03-09T09:25:56.699Z"
   },
   {
    "duration": 768,
    "start_time": "2023-03-09T09:34:18.035Z"
   },
   {
    "duration": 796,
    "start_time": "2023-03-09T09:34:56.050Z"
   },
   {
    "duration": 753,
    "start_time": "2023-03-09T09:35:00.631Z"
   },
   {
    "duration": 752,
    "start_time": "2023-03-09T09:35:44.435Z"
   },
   {
    "duration": 774,
    "start_time": "2023-03-09T09:36:13.988Z"
   },
   {
    "duration": 790,
    "start_time": "2023-03-09T09:36:25.115Z"
   },
   {
    "duration": 743,
    "start_time": "2023-03-09T09:36:48.507Z"
   },
   {
    "duration": 772,
    "start_time": "2023-03-09T09:43:50.499Z"
   },
   {
    "duration": 788,
    "start_time": "2023-03-09T09:44:07.670Z"
   },
   {
    "duration": 757,
    "start_time": "2023-03-09T09:44:18.971Z"
   },
   {
    "duration": 803,
    "start_time": "2023-03-09T09:44:24.970Z"
   },
   {
    "duration": 11,
    "start_time": "2023-03-09T09:44:29.319Z"
   },
   {
    "duration": 11,
    "start_time": "2023-03-09T09:45:26.878Z"
   },
   {
    "duration": 9,
    "start_time": "2023-03-09T09:46:19.800Z"
   },
   {
    "duration": 13,
    "start_time": "2023-03-09T09:46:53.123Z"
   },
   {
    "duration": 3,
    "start_time": "2023-03-09T11:03:10.925Z"
   },
   {
    "duration": 337,
    "start_time": "2023-03-09T11:03:14.141Z"
   },
   {
    "duration": 18,
    "start_time": "2023-03-09T11:03:15.053Z"
   },
   {
    "duration": 19,
    "start_time": "2023-03-09T11:03:16.299Z"
   },
   {
    "duration": 19,
    "start_time": "2023-03-09T11:03:17.515Z"
   },
   {
    "duration": 76,
    "start_time": "2023-03-09T11:03:18.863Z"
   },
   {
    "duration": 50,
    "start_time": "2023-03-09T11:03:19.345Z"
   },
   {
    "duration": 10,
    "start_time": "2023-03-09T11:04:18.612Z"
   },
   {
    "duration": 3,
    "start_time": "2023-03-09T11:04:20.238Z"
   },
   {
    "duration": 469,
    "start_time": "2023-03-09T11:04:21.019Z"
   },
   {
    "duration": 499,
    "start_time": "2023-03-09T11:04:23.869Z"
   },
   {
    "duration": 490,
    "start_time": "2023-03-09T11:04:24.768Z"
   },
   {
    "duration": 5,
    "start_time": "2023-03-09T11:05:47.718Z"
   },
   {
    "duration": 642,
    "start_time": "2023-03-09T11:05:50.445Z"
   },
   {
    "duration": 444,
    "start_time": "2023-03-09T11:05:52.002Z"
   },
   {
    "duration": 573,
    "start_time": "2023-03-09T11:05:54.326Z"
   },
   {
    "duration": 388,
    "start_time": "2023-03-09T11:07:29.440Z"
   },
   {
    "duration": 536,
    "start_time": "2023-03-09T11:07:36.729Z"
   },
   {
    "duration": 702,
    "start_time": "2023-03-09T11:07:46.575Z"
   },
   {
    "duration": 16,
    "start_time": "2023-03-09T11:08:00.794Z"
   },
   {
    "duration": 15,
    "start_time": "2023-03-09T11:08:01.278Z"
   },
   {
    "duration": 15,
    "start_time": "2023-03-09T11:08:01.728Z"
   },
   {
    "duration": 5,
    "start_time": "2023-03-09T11:10:13.507Z"
   },
   {
    "duration": 4,
    "start_time": "2023-03-09T11:10:13.955Z"
   },
   {
    "duration": 5,
    "start_time": "2023-03-09T11:10:14.415Z"
   },
   {
    "duration": 11,
    "start_time": "2023-03-09T11:10:15.336Z"
   },
   {
    "duration": 11,
    "start_time": "2023-03-09T11:10:17.659Z"
   },
   {
    "duration": 11,
    "start_time": "2023-03-09T11:10:18.177Z"
   },
   {
    "duration": 3,
    "start_time": "2023-03-09T11:10:19.160Z"
   },
   {
    "duration": 15,
    "start_time": "2023-03-09T11:10:21.508Z"
   },
   {
    "duration": 15,
    "start_time": "2023-03-09T11:10:22.013Z"
   },
   {
    "duration": 15,
    "start_time": "2023-03-09T11:10:22.480Z"
   },
   {
    "duration": 16,
    "start_time": "2023-03-09T11:10:25.608Z"
   },
   {
    "duration": 5,
    "start_time": "2023-03-09T11:10:26.064Z"
   },
   {
    "duration": 12,
    "start_time": "2023-03-09T11:10:27.012Z"
   },
   {
    "duration": 4,
    "start_time": "2023-03-09T11:10:27.489Z"
   },
   {
    "duration": 11,
    "start_time": "2023-03-09T11:10:30.235Z"
   },
   {
    "duration": 5,
    "start_time": "2023-03-09T11:10:30.688Z"
   },
   {
    "duration": 10,
    "start_time": "2023-03-09T11:10:31.527Z"
   },
   {
    "duration": 3,
    "start_time": "2023-03-09T11:11:24.615Z"
   },
   {
    "duration": 3,
    "start_time": "2023-03-09T11:11:25.217Z"
   },
   {
    "duration": 4,
    "start_time": "2023-03-09T11:11:32.131Z"
   },
   {
    "duration": 8,
    "start_time": "2023-03-09T11:11:32.586Z"
   },
   {
    "duration": 8,
    "start_time": "2023-03-09T11:11:33.025Z"
   },
   {
    "duration": 9,
    "start_time": "2023-03-09T11:11:33.451Z"
   },
   {
    "duration": 7,
    "start_time": "2023-03-09T11:11:48.296Z"
   },
   {
    "duration": 755,
    "start_time": "2023-03-09T11:11:50.986Z"
   },
   {
    "duration": 753,
    "start_time": "2023-03-09T11:11:51.812Z"
   },
   {
    "duration": 772,
    "start_time": "2023-03-09T11:11:52.640Z"
   },
   {
    "duration": 9,
    "start_time": "2023-03-09T11:11:53.414Z"
   },
   {
    "duration": 1695,
    "start_time": "2023-03-09T11:22:14.063Z"
   },
   {
    "duration": 11,
    "start_time": "2023-03-09T11:22:48.603Z"
   },
   {
    "duration": 1714,
    "start_time": "2023-03-09T11:23:18.551Z"
   },
   {
    "duration": 16,
    "start_time": "2023-03-09T11:23:39.765Z"
   },
   {
    "duration": 484,
    "start_time": "2023-03-09T11:24:06.420Z"
   },
   {
    "duration": 119,
    "start_time": "2023-03-09T11:25:31.194Z"
   },
   {
    "duration": 143,
    "start_time": "2023-03-09T11:25:35.364Z"
   },
   {
    "duration": 12,
    "start_time": "2023-03-09T11:26:05.627Z"
   },
   {
    "duration": 136,
    "start_time": "2023-03-09T11:26:09.147Z"
   },
   {
    "duration": 13,
    "start_time": "2023-03-09T11:26:35.301Z"
   },
   {
    "duration": 107,
    "start_time": "2023-03-09T11:26:43.813Z"
   },
   {
    "duration": 112,
    "start_time": "2023-03-09T11:26:48.964Z"
   },
   {
    "duration": 90,
    "start_time": "2023-03-09T11:27:13.308Z"
   },
   {
    "duration": 108,
    "start_time": "2023-03-09T11:27:20.976Z"
   },
   {
    "duration": 112,
    "start_time": "2023-03-09T11:27:33.288Z"
   },
   {
    "duration": 413,
    "start_time": "2023-03-09T11:28:59.300Z"
   },
   {
    "duration": 107,
    "start_time": "2023-03-09T11:29:10.839Z"
   },
   {
    "duration": 188,
    "start_time": "2023-03-09T11:30:13.643Z"
   },
   {
    "duration": 200,
    "start_time": "2023-03-09T11:30:38.417Z"
   },
   {
    "duration": 196,
    "start_time": "2023-03-09T11:30:44.848Z"
   },
   {
    "duration": 211,
    "start_time": "2023-03-09T11:30:53.055Z"
   },
   {
    "duration": 193,
    "start_time": "2023-03-09T11:31:15.637Z"
   },
   {
    "duration": 193,
    "start_time": "2023-03-09T11:31:21.239Z"
   },
   {
    "duration": 226,
    "start_time": "2023-03-09T11:32:46.873Z"
   },
   {
    "duration": 1675,
    "start_time": "2023-03-13T15:20:11.028Z"
   },
   {
    "duration": 1614,
    "start_time": "2023-03-13T15:20:12.706Z"
   },
   {
    "duration": 24,
    "start_time": "2023-03-13T15:20:14.322Z"
   },
   {
    "duration": 23,
    "start_time": "2023-03-13T15:20:17.561Z"
   },
   {
    "duration": 23,
    "start_time": "2023-03-13T15:20:21.309Z"
   },
   {
    "duration": 85,
    "start_time": "2023-03-13T15:20:22.250Z"
   },
   {
    "duration": 62,
    "start_time": "2023-03-13T15:20:27.805Z"
   },
   {
    "duration": 13,
    "start_time": "2023-03-13T15:20:29.145Z"
   },
   {
    "duration": 3,
    "start_time": "2023-03-13T15:20:29.914Z"
   },
   {
    "duration": 1679,
    "start_time": "2024-03-23T12:29:40.618Z"
   },
   {
    "duration": 686,
    "start_time": "2024-03-23T12:29:48.614Z"
   },
   {
    "duration": 38,
    "start_time": "2024-03-23T12:30:21.359Z"
   },
   {
    "duration": 22,
    "start_time": "2024-03-23T12:30:22.891Z"
   },
   {
    "duration": 22,
    "start_time": "2024-03-23T12:30:26.292Z"
   },
   {
    "duration": 95,
    "start_time": "2024-03-23T12:31:08.963Z"
   },
   {
    "duration": 117,
    "start_time": "2024-03-23T12:42:03.627Z"
   },
   {
    "duration": 130,
    "start_time": "2024-03-23T12:42:26.367Z"
   },
   {
    "duration": 152,
    "start_time": "2024-03-23T12:43:53.010Z"
   },
   {
    "duration": 13,
    "start_time": "2024-03-23T12:47:28.411Z"
   },
   {
    "duration": 4,
    "start_time": "2024-03-23T12:47:39.661Z"
   },
   {
    "duration": 551,
    "start_time": "2024-03-23T12:48:01.245Z"
   },
   {
    "duration": 568,
    "start_time": "2024-03-23T12:48:06.484Z"
   },
   {
    "duration": 630,
    "start_time": "2024-03-23T12:48:10.565Z"
   },
   {
    "duration": 5,
    "start_time": "2024-03-23T12:48:45.691Z"
   },
   {
    "duration": 660,
    "start_time": "2024-03-23T12:48:48.002Z"
   },
   {
    "duration": 662,
    "start_time": "2024-03-23T12:48:49.300Z"
   },
   {
    "duration": 745,
    "start_time": "2024-03-23T12:48:50.513Z"
   },
   {
    "duration": 18,
    "start_time": "2024-03-23T12:51:05.313Z"
   },
   {
    "duration": 17,
    "start_time": "2024-03-23T12:51:05.734Z"
   },
   {
    "duration": 15,
    "start_time": "2024-03-23T12:51:06.113Z"
   },
   {
    "duration": 5,
    "start_time": "2024-03-23T12:52:38.359Z"
   },
   {
    "duration": 5,
    "start_time": "2024-03-23T12:52:38.717Z"
   },
   {
    "duration": 6,
    "start_time": "2024-03-23T12:52:39.073Z"
   },
   {
    "duration": 19,
    "start_time": "2024-03-23T12:52:40.441Z"
   },
   {
    "duration": 20,
    "start_time": "2024-03-23T12:52:42.849Z"
   },
   {
    "duration": 20,
    "start_time": "2024-03-23T12:52:43.274Z"
   },
   {
    "duration": 2,
    "start_time": "2024-03-23T12:52:49.755Z"
   },
   {
    "duration": 17,
    "start_time": "2024-03-23T12:52:50.169Z"
   },
   {
    "duration": 15,
    "start_time": "2024-03-23T12:52:53.651Z"
   },
   {
    "duration": 20,
    "start_time": "2024-03-23T12:52:54.032Z"
   },
   {
    "duration": 19,
    "start_time": "2024-03-23T12:53:00.749Z"
   },
   {
    "duration": 4,
    "start_time": "2024-03-23T12:53:02.124Z"
   },
   {
    "duration": 13,
    "start_time": "2024-03-23T12:53:05.093Z"
   },
   {
    "duration": 4,
    "start_time": "2024-03-23T12:53:05.829Z"
   },
   {
    "duration": 14,
    "start_time": "2024-03-23T12:53:06.670Z"
   },
   {
    "duration": 5,
    "start_time": "2024-03-23T12:53:09.022Z"
   },
   {
    "duration": 12,
    "start_time": "2024-03-23T12:53:10.936Z"
   },
   {
    "duration": 4,
    "start_time": "2024-03-23T12:59:56.200Z"
   },
   {
    "duration": 13,
    "start_time": "2024-03-23T12:59:57.079Z"
   },
   {
    "duration": 4,
    "start_time": "2024-03-23T13:00:30.393Z"
   },
   {
    "duration": 3,
    "start_time": "2024-03-23T13:01:33.555Z"
   },
   {
    "duration": 9,
    "start_time": "2024-03-23T13:01:45.529Z"
   },
   {
    "duration": 17,
    "start_time": "2024-03-23T13:02:02.602Z"
   },
   {
    "duration": 4,
    "start_time": "2024-03-23T13:04:16.996Z"
   },
   {
    "duration": 13,
    "start_time": "2024-03-23T13:04:52.985Z"
   },
   {
    "duration": 9,
    "start_time": "2024-03-23T13:04:58.946Z"
   },
   {
    "duration": 8,
    "start_time": "2024-03-23T13:05:27.693Z"
   },
   {
    "duration": 8,
    "start_time": "2024-03-23T13:05:34.189Z"
   },
   {
    "duration": 9,
    "start_time": "2024-03-23T13:05:59.525Z"
   },
   {
    "duration": 6,
    "start_time": "2024-03-23T13:06:38.316Z"
   },
   {
    "duration": 13,
    "start_time": "2024-03-23T13:06:53.769Z"
   },
   {
    "duration": 6,
    "start_time": "2024-03-23T13:07:41.132Z"
   },
   {
    "duration": 16,
    "start_time": "2024-03-23T13:07:42.700Z"
   },
   {
    "duration": 2,
    "start_time": "2024-03-23T13:13:11.819Z"
   },
   {
    "duration": 4,
    "start_time": "2024-03-23T13:13:22.128Z"
   },
   {
    "duration": 4,
    "start_time": "2024-03-23T13:13:35.255Z"
   },
   {
    "duration": 10,
    "start_time": "2024-03-23T13:14:06.487Z"
   },
   {
    "duration": 11,
    "start_time": "2024-03-23T13:14:19.225Z"
   },
   {
    "duration": 9,
    "start_time": "2024-03-23T13:14:31.891Z"
   },
   {
    "duration": 5,
    "start_time": "2024-03-23T13:14:46.902Z"
   },
   {
    "duration": 1017,
    "start_time": "2024-03-23T13:15:03.116Z"
   },
   {
    "duration": 926,
    "start_time": "2024-03-23T13:15:53.747Z"
   },
   {
    "duration": 933,
    "start_time": "2024-03-23T13:15:57.520Z"
   },
   {
    "duration": 12,
    "start_time": "2024-03-23T13:15:59.146Z"
   },
   {
    "duration": 249,
    "start_time": "2024-03-23T13:16:02.101Z"
   },
   {
    "duration": 1469,
    "start_time": "2024-03-23T13:47:33.465Z"
   },
   {
    "duration": 433,
    "start_time": "2024-03-23T13:47:34.936Z"
   },
   {
    "duration": 27,
    "start_time": "2024-03-23T13:47:35.374Z"
   },
   {
    "duration": 33,
    "start_time": "2024-03-23T13:47:35.403Z"
   },
   {
    "duration": 39,
    "start_time": "2024-03-23T13:47:35.438Z"
   },
   {
    "duration": 103,
    "start_time": "2024-03-23T13:47:35.478Z"
   },
   {
    "duration": 135,
    "start_time": "2024-03-23T13:47:35.583Z"
   },
   {
    "duration": 70,
    "start_time": "2024-03-23T13:47:35.720Z"
   },
   {
    "duration": 13,
    "start_time": "2024-03-23T13:47:35.792Z"
   },
   {
    "duration": 15,
    "start_time": "2024-03-23T13:47:35.806Z"
   },
   {
    "duration": 572,
    "start_time": "2024-03-23T13:47:35.823Z"
   },
   {
    "duration": 565,
    "start_time": "2024-03-23T13:47:36.397Z"
   },
   {
    "duration": 659,
    "start_time": "2024-03-23T13:47:36.964Z"
   },
   {
    "duration": 4,
    "start_time": "2024-03-23T13:47:37.625Z"
   },
   {
    "duration": 667,
    "start_time": "2024-03-23T13:47:37.631Z"
   },
   {
    "duration": 718,
    "start_time": "2024-03-23T13:47:38.300Z"
   },
   {
    "duration": 744,
    "start_time": "2024-03-23T13:47:39.019Z"
   },
   {
    "duration": 16,
    "start_time": "2024-03-23T13:47:39.764Z"
   },
   {
    "duration": 15,
    "start_time": "2024-03-23T13:47:39.782Z"
   },
   {
    "duration": 13,
    "start_time": "2024-03-23T13:47:39.799Z"
   },
   {
    "duration": 6,
    "start_time": "2024-03-23T13:47:39.813Z"
   },
   {
    "duration": 14,
    "start_time": "2024-03-23T13:47:39.820Z"
   },
   {
    "duration": 7,
    "start_time": "2024-03-23T13:47:39.858Z"
   },
   {
    "duration": 21,
    "start_time": "2024-03-23T13:47:39.868Z"
   },
   {
    "duration": 19,
    "start_time": "2024-03-23T13:47:39.891Z"
   },
   {
    "duration": 15,
    "start_time": "2024-03-23T13:47:39.912Z"
   },
   {
    "duration": 3,
    "start_time": "2024-03-23T13:47:39.959Z"
   },
   {
    "duration": 25,
    "start_time": "2024-03-23T13:47:39.964Z"
   },
   {
    "duration": 16,
    "start_time": "2024-03-23T13:47:39.991Z"
   },
   {
    "duration": 24,
    "start_time": "2024-03-23T13:47:40.009Z"
   },
   {
    "duration": 50,
    "start_time": "2024-03-23T13:47:40.035Z"
   },
   {
    "duration": 74,
    "start_time": "2024-03-23T13:47:40.088Z"
   },
   {
    "duration": 194,
    "start_time": "2024-03-23T13:47:40.167Z"
   },
   {
    "duration": 7,
    "start_time": "2024-03-23T13:47:40.363Z"
   },
   {
    "duration": 14,
    "start_time": "2024-03-23T13:47:40.460Z"
   },
   {
    "duration": 84,
    "start_time": "2024-03-23T13:47:40.476Z"
   },
   {
    "duration": 98,
    "start_time": "2024-03-23T13:47:40.566Z"
   },
   {
    "duration": 4,
    "start_time": "2024-03-23T13:47:40.666Z"
   },
   {
    "duration": 4,
    "start_time": "2024-03-23T13:47:40.672Z"
   },
   {
    "duration": 4,
    "start_time": "2024-03-23T13:47:40.677Z"
   },
   {
    "duration": 14,
    "start_time": "2024-03-23T13:47:40.683Z"
   },
   {
    "duration": 9,
    "start_time": "2024-03-23T13:47:40.699Z"
   },
   {
    "duration": 17,
    "start_time": "2024-03-23T13:47:40.709Z"
   },
   {
    "duration": 33,
    "start_time": "2024-03-23T13:47:40.728Z"
   },
   {
    "duration": 1005,
    "start_time": "2024-03-23T13:47:40.763Z"
   },
   {
    "duration": 971,
    "start_time": "2024-03-23T13:47:41.769Z"
   },
   {
    "duration": 968,
    "start_time": "2024-03-23T13:47:42.741Z"
   },
   {
    "duration": 14,
    "start_time": "2024-03-23T13:47:43.715Z"
   },
   {
    "duration": 233,
    "start_time": "2024-03-23T13:47:43.731Z"
   }
  ],
  "kernelspec": {
   "display_name": "Python 3 (ipykernel)",
   "language": "python",
   "name": "python3"
  },
  "language_info": {
   "codemirror_mode": {
    "name": "ipython",
    "version": 3
   },
   "file_extension": ".py",
   "mimetype": "text/x-python",
   "name": "python",
   "nbconvert_exporter": "python",
   "pygments_lexer": "ipython3",
   "version": "3.9.5"
  },
  "toc": {
   "base_numbering": 1,
   "nav_menu": {},
   "number_sections": true,
   "sideBar": true,
   "skip_h1_title": true,
   "title_cell": "Table of Contents",
   "title_sidebar": "Contents",
   "toc_cell": false,
   "toc_position": {},
   "toc_section_display": true,
   "toc_window_display": false
  }
 },
 "nbformat": 4,
 "nbformat_minor": 2
}
